{
 "cells": [
  {
   "cell_type": "code",
   "execution_count": 7,
   "id": "607c5fad-5ef9-492c-b782-5bc10ee0afc9",
   "metadata": {},
   "outputs": [
    {
     "name": "stdout",
     "output_type": "stream",
     "text": [
      "\n",
      "==============================\n",
      "此次实验的配置: {'N': 2, 'h': 2, 'use_pe': True, 'd_model': 128, 'd_ff': 512, 'epochs': 50, 'batch_size': 128, 'lr': 1, 'warmup_steps': 2000}\n",
      "==============================\n",
      "Using device: cuda:0\n",
      "\n",
      "--- Training Model: N2_H2_PETrue_DM128 ---\n"
     ]
    },
    {
     "name": "stderr",
     "output_type": "stream",
     "text": [
      "Reading data from ./data.txt: 100%|██████████| 15408/15408 [00:00<00:00, 44758.21it/s]\n"
     ]
    },
    {
     "name": "stdout",
     "output_type": "stream",
     "text": [
      "Loading cached dataset from ./valid.bin\n"
     ]
    },
    {
     "name": "stderr",
     "output_type": "stream",
     "text": [
      "Epoch - train: 100%|██████████| 97/97 [00:01<00:00, 82.39it/s]\n",
      "Epoch - valid: 100%|██████████| 25/25 [00:00<00:00, 222.30it/s]\n"
     ]
    },
    {
     "name": "stdout",
     "output_type": "stream",
     "text": [
      "Epoch 1/50 | Train Loss: 6.2391 | Train PPL: 512.4131 | Train Acc: 0.0792 | Valid Loss: 5.6508 | Valid PPL: 284.5173 | Valid Acc: 0.1133\n"
     ]
    },
    {
     "name": "stderr",
     "output_type": "stream",
     "text": [
      "Epoch - train: 100%|██████████| 97/97 [00:01<00:00, 84.78it/s]\n",
      "Epoch - valid: 100%|██████████| 25/25 [00:00<00:00, 219.74it/s]\n"
     ]
    },
    {
     "name": "stdout",
     "output_type": "stream",
     "text": [
      "Epoch 2/50 | Train Loss: 5.0738 | Train PPL: 159.7737 | Train Acc: 0.1883 | Valid Loss: 4.4085 | Valid PPL: 82.1422 | Valid Acc: 0.2445\n"
     ]
    },
    {
     "name": "stderr",
     "output_type": "stream",
     "text": [
      "Epoch - train: 100%|██████████| 97/97 [00:01<00:00, 83.81it/s]\n",
      "Epoch - valid: 100%|██████████| 25/25 [00:00<00:00, 198.48it/s]\n"
     ]
    },
    {
     "name": "stdout",
     "output_type": "stream",
     "text": [
      "Epoch 3/50 | Train Loss: 4.0838 | Train PPL: 59.3694 | Train Acc: 0.2742 | Valid Loss: 3.7187 | Valid PPL: 41.2092 | Valid Acc: 0.3255\n"
     ]
    },
    {
     "name": "stderr",
     "output_type": "stream",
     "text": [
      "Epoch - train: 100%|██████████| 97/97 [00:01<00:00, 73.71it/s]\n",
      "Epoch - valid: 100%|██████████| 25/25 [00:00<00:00, 194.08it/s]\n"
     ]
    },
    {
     "name": "stdout",
     "output_type": "stream",
     "text": [
      "Epoch 4/50 | Train Loss: 3.5358 | Train PPL: 34.3238 | Train Acc: 0.3574 | Valid Loss: 3.2515 | Valid PPL: 25.8288 | Valid Acc: 0.4009\n"
     ]
    },
    {
     "name": "stderr",
     "output_type": "stream",
     "text": [
      "Epoch - train: 100%|██████████| 97/97 [00:01<00:00, 72.28it/s]\n",
      "Epoch - valid: 100%|██████████| 25/25 [00:00<00:00, 195.98it/s]\n"
     ]
    },
    {
     "name": "stdout",
     "output_type": "stream",
     "text": [
      "Epoch 5/50 | Train Loss: 3.1208 | Train PPL: 22.6647 | Train Acc: 0.4202 | Valid Loss: 2.9121 | Valid PPL: 18.3953 | Valid Acc: 0.4566\n"
     ]
    },
    {
     "name": "stderr",
     "output_type": "stream",
     "text": [
      "Epoch - train: 100%|██████████| 97/97 [00:01<00:00, 84.16it/s]\n",
      "Epoch - valid: 100%|██████████| 25/25 [00:00<00:00, 219.25it/s]\n"
     ]
    },
    {
     "name": "stdout",
     "output_type": "stream",
     "text": [
      "Epoch 6/50 | Train Loss: 2.7757 | Train PPL: 16.0502 | Train Acc: 0.4690 | Valid Loss: 2.6291 | Valid PPL: 13.8608 | Valid Acc: 0.4982\n"
     ]
    },
    {
     "name": "stderr",
     "output_type": "stream",
     "text": [
      "Epoch - train: 100%|██████████| 97/97 [00:01<00:00, 86.55it/s]\n",
      "Epoch - valid: 100%|██████████| 25/25 [00:00<00:00, 223.68it/s]\n"
     ]
    },
    {
     "name": "stdout",
     "output_type": "stream",
     "text": [
      "Epoch 7/50 | Train Loss: 2.4840 | Train PPL: 11.9895 | Train Acc: 0.5106 | Valid Loss: 2.4273 | Valid PPL: 11.3283 | Valid Acc: 0.5285\n"
     ]
    },
    {
     "name": "stderr",
     "output_type": "stream",
     "text": [
      "Epoch - train: 100%|██████████| 97/97 [00:01<00:00, 86.71it/s]\n",
      "Epoch - valid: 100%|██████████| 25/25 [00:00<00:00, 223.98it/s]\n"
     ]
    },
    {
     "name": "stdout",
     "output_type": "stream",
     "text": [
      "Epoch 8/50 | Train Loss: 2.2236 | Train PPL: 9.2408 | Train Acc: 0.5477 | Valid Loss: 2.2582 | Valid PPL: 9.5659 | Valid Acc: 0.5567\n"
     ]
    },
    {
     "name": "stderr",
     "output_type": "stream",
     "text": [
      "Epoch - train: 100%|██████████| 97/97 [00:01<00:00, 85.00it/s]\n",
      "Epoch - valid: 100%|██████████| 25/25 [00:00<00:00, 223.95it/s]\n"
     ]
    },
    {
     "name": "stdout",
     "output_type": "stream",
     "text": [
      "Epoch 9/50 | Train Loss: 1.9903 | Train PPL: 7.3178 | Train Acc: 0.5830 | Valid Loss: 2.1222 | Valid PPL: 8.3497 | Valid Acc: 0.5837\n"
     ]
    },
    {
     "name": "stderr",
     "output_type": "stream",
     "text": [
      "Epoch - train: 100%|██████████| 97/97 [00:01<00:00, 85.41it/s]\n",
      "Epoch - valid: 100%|██████████| 25/25 [00:00<00:00, 224.89it/s]\n"
     ]
    },
    {
     "name": "stdout",
     "output_type": "stream",
     "text": [
      "Epoch 10/50 | Train Loss: 1.7791 | Train PPL: 5.9248 | Train Acc: 0.6164 | Valid Loss: 2.0177 | Valid PPL: 7.5207 | Valid Acc: 0.6057\n"
     ]
    },
    {
     "name": "stderr",
     "output_type": "stream",
     "text": [
      "Epoch - train: 100%|██████████| 97/97 [00:01<00:00, 86.49it/s]\n",
      "Epoch - valid: 100%|██████████| 25/25 [00:00<00:00, 223.39it/s]\n"
     ]
    },
    {
     "name": "stdout",
     "output_type": "stream",
     "text": [
      "Epoch 11/50 | Train Loss: 1.5956 | Train PPL: 4.9312 | Train Acc: 0.6468 | Valid Loss: 1.9385 | Valid PPL: 6.9485 | Valid Acc: 0.6222\n"
     ]
    },
    {
     "name": "stderr",
     "output_type": "stream",
     "text": [
      "Epoch - train: 100%|██████████| 97/97 [00:01<00:00, 86.69it/s]\n",
      "Epoch - valid: 100%|██████████| 25/25 [00:00<00:00, 224.66it/s]\n"
     ]
    },
    {
     "name": "stdout",
     "output_type": "stream",
     "text": [
      "Epoch 12/50 | Train Loss: 1.4364 | Train PPL: 4.2056 | Train Acc: 0.6741 | Valid Loss: 1.9013 | Valid PPL: 6.6949 | Valid Acc: 0.6325\n"
     ]
    },
    {
     "name": "stderr",
     "output_type": "stream",
     "text": [
      "Epoch - train: 100%|██████████| 97/97 [00:01<00:00, 86.53it/s]\n",
      "Epoch - valid: 100%|██████████| 25/25 [00:00<00:00, 223.08it/s]\n"
     ]
    },
    {
     "name": "stdout",
     "output_type": "stream",
     "text": [
      "Epoch 13/50 | Train Loss: 1.3067 | Train PPL: 3.6941 | Train Acc: 0.6963 | Valid Loss: 1.8549 | Valid PPL: 6.3909 | Valid Acc: 0.6427\n"
     ]
    },
    {
     "name": "stderr",
     "output_type": "stream",
     "text": [
      "Epoch - train: 100%|██████████| 97/97 [00:01<00:00, 86.57it/s]\n",
      "Epoch - valid: 100%|██████████| 25/25 [00:00<00:00, 218.40it/s]\n"
     ]
    },
    {
     "name": "stdout",
     "output_type": "stream",
     "text": [
      "Epoch 14/50 | Train Loss: 1.1952 | Train PPL: 3.3042 | Train Acc: 0.7179 | Valid Loss: 1.8619 | Valid PPL: 6.4361 | Valid Acc: 0.6450\n"
     ]
    },
    {
     "name": "stderr",
     "output_type": "stream",
     "text": [
      "Epoch - train: 100%|██████████| 97/97 [00:01<00:00, 86.86it/s]\n",
      "Epoch - valid: 100%|██████████| 25/25 [00:00<00:00, 225.94it/s]\n"
     ]
    },
    {
     "name": "stdout",
     "output_type": "stream",
     "text": [
      "Epoch 15/50 | Train Loss: 1.1026 | Train PPL: 3.0120 | Train Acc: 0.7354 | Valid Loss: 1.8399 | Valid PPL: 6.2958 | Valid Acc: 0.6526\n"
     ]
    },
    {
     "name": "stderr",
     "output_type": "stream",
     "text": [
      "Epoch - train: 100%|██████████| 97/97 [00:01<00:00, 86.74it/s]\n",
      "Epoch - valid: 100%|██████████| 25/25 [00:00<00:00, 224.74it/s]\n"
     ]
    },
    {
     "name": "stdout",
     "output_type": "stream",
     "text": [
      "Epoch 16/50 | Train Loss: 1.0293 | Train PPL: 2.7990 | Train Acc: 0.7501 | Valid Loss: 1.8213 | Valid PPL: 6.1801 | Valid Acc: 0.6572\n"
     ]
    },
    {
     "name": "stderr",
     "output_type": "stream",
     "text": [
      "Epoch - train: 100%|██████████| 97/97 [00:01<00:00, 86.40it/s]\n",
      "Epoch - valid: 100%|██████████| 25/25 [00:00<00:00, 224.03it/s]\n"
     ]
    },
    {
     "name": "stdout",
     "output_type": "stream",
     "text": [
      "Epoch 17/50 | Train Loss: 0.9631 | Train PPL: 2.6197 | Train Acc: 0.7639 | Valid Loss: 1.8352 | Valid PPL: 6.2667 | Valid Acc: 0.6577\n"
     ]
    },
    {
     "name": "stderr",
     "output_type": "stream",
     "text": [
      "Epoch - train: 100%|██████████| 97/97 [00:01<00:00, 86.25it/s]\n",
      "Epoch - valid: 100%|██████████| 25/25 [00:00<00:00, 223.65it/s]\n"
     ]
    },
    {
     "name": "stdout",
     "output_type": "stream",
     "text": [
      "Epoch 18/50 | Train Loss: 0.9093 | Train PPL: 2.4825 | Train Acc: 0.7764 | Valid Loss: 1.8393 | Valid PPL: 6.2923 | Valid Acc: 0.6639\n"
     ]
    },
    {
     "name": "stderr",
     "output_type": "stream",
     "text": [
      "Epoch - train: 100%|██████████| 97/97 [00:01<00:00, 86.40it/s]\n",
      "Epoch - valid: 100%|██████████| 25/25 [00:00<00:00, 223.75it/s]\n"
     ]
    },
    {
     "name": "stdout",
     "output_type": "stream",
     "text": [
      "Epoch 19/50 | Train Loss: 0.8611 | Train PPL: 2.3658 | Train Acc: 0.7876 | Valid Loss: 1.8338 | Valid PPL: 6.2576 | Valid Acc: 0.6649\n"
     ]
    },
    {
     "name": "stderr",
     "output_type": "stream",
     "text": [
      "Epoch - train: 100%|██████████| 97/97 [00:01<00:00, 86.10it/s]\n",
      "Epoch - valid: 100%|██████████| 25/25 [00:00<00:00, 222.16it/s]\n"
     ]
    },
    {
     "name": "stdout",
     "output_type": "stream",
     "text": [
      "Epoch 20/50 | Train Loss: 0.8225 | Train PPL: 2.2761 | Train Acc: 0.7973 | Valid Loss: 1.8474 | Valid PPL: 6.3435 | Valid Acc: 0.6623\n"
     ]
    },
    {
     "name": "stderr",
     "output_type": "stream",
     "text": [
      "Epoch - train: 100%|██████████| 97/97 [00:01<00:00, 82.32it/s]\n",
      "Epoch - valid: 100%|██████████| 25/25 [00:00<00:00, 213.08it/s]\n"
     ]
    },
    {
     "name": "stdout",
     "output_type": "stream",
     "text": [
      "Epoch 21/50 | Train Loss: 0.7838 | Train PPL: 2.1897 | Train Acc: 0.8075 | Valid Loss: 1.8512 | Valid PPL: 6.3675 | Valid Acc: 0.6663\n"
     ]
    },
    {
     "name": "stderr",
     "output_type": "stream",
     "text": [
      "Epoch - train: 100%|██████████| 97/97 [00:01<00:00, 62.19it/s]\n",
      "Epoch - valid: 100%|██████████| 25/25 [00:00<00:00, 218.48it/s]\n"
     ]
    },
    {
     "name": "stdout",
     "output_type": "stream",
     "text": [
      "Epoch 22/50 | Train Loss: 0.7421 | Train PPL: 2.1004 | Train Acc: 0.8168 | Valid Loss: 1.8349 | Valid PPL: 6.2644 | Valid Acc: 0.6699\n"
     ]
    },
    {
     "name": "stderr",
     "output_type": "stream",
     "text": [
      "Epoch - train: 100%|██████████| 97/97 [00:01<00:00, 56.75it/s]\n",
      "Epoch - valid: 100%|██████████| 25/25 [00:00<00:00, 216.74it/s]\n"
     ]
    },
    {
     "name": "stdout",
     "output_type": "stream",
     "text": [
      "Epoch 23/50 | Train Loss: 0.7017 | Train PPL: 2.0172 | Train Acc: 0.8275 | Valid Loss: 1.8295 | Valid PPL: 6.2311 | Valid Acc: 0.6716\n"
     ]
    },
    {
     "name": "stderr",
     "output_type": "stream",
     "text": [
      "Epoch - train: 100%|██████████| 97/97 [00:01<00:00, 58.72it/s]\n",
      "Epoch - valid: 100%|██████████| 25/25 [00:00<00:00, 217.52it/s]\n"
     ]
    },
    {
     "name": "stdout",
     "output_type": "stream",
     "text": [
      "Epoch 24/50 | Train Loss: 0.6582 | Train PPL: 1.9314 | Train Acc: 0.8403 | Valid Loss: 1.8512 | Valid PPL: 6.3676 | Valid Acc: 0.6689\n"
     ]
    },
    {
     "name": "stderr",
     "output_type": "stream",
     "text": [
      "Epoch - train: 100%|██████████| 97/97 [00:01<00:00, 57.25it/s]\n",
      "Epoch - valid: 100%|██████████| 25/25 [00:00<00:00, 215.91it/s]\n"
     ]
    },
    {
     "name": "stdout",
     "output_type": "stream",
     "text": [
      "Epoch 25/50 | Train Loss: 0.6232 | Train PPL: 1.8649 | Train Acc: 0.8497 | Valid Loss: 1.8258 | Valid PPL: 6.2076 | Valid Acc: 0.6784\n"
     ]
    },
    {
     "name": "stderr",
     "output_type": "stream",
     "text": [
      "Epoch - train: 100%|██████████| 97/97 [00:01<00:00, 61.27it/s]\n",
      "Epoch - valid: 100%|██████████| 25/25 [00:00<00:00, 214.55it/s]\n"
     ]
    },
    {
     "name": "stdout",
     "output_type": "stream",
     "text": [
      "Epoch 26/50 | Train Loss: 0.5931 | Train PPL: 1.8096 | Train Acc: 0.8583 | Valid Loss: 1.8321 | Valid PPL: 6.2471 | Valid Acc: 0.6791\n"
     ]
    },
    {
     "name": "stderr",
     "output_type": "stream",
     "text": [
      "Epoch - train: 100%|██████████| 97/97 [00:01<00:00, 57.47it/s]\n",
      "Epoch - valid: 100%|██████████| 25/25 [00:00<00:00, 190.89it/s]\n"
     ]
    },
    {
     "name": "stdout",
     "output_type": "stream",
     "text": [
      "Epoch 27/50 | Train Loss: 0.5655 | Train PPL: 1.7603 | Train Acc: 0.8671 | Valid Loss: 1.8246 | Valid PPL: 6.2002 | Valid Acc: 0.6795\n"
     ]
    },
    {
     "name": "stderr",
     "output_type": "stream",
     "text": [
      "Epoch - train: 100%|██████████| 97/97 [00:01<00:00, 57.78it/s]\n",
      "Epoch - valid: 100%|██████████| 25/25 [00:00<00:00, 221.23it/s]\n"
     ]
    },
    {
     "name": "stdout",
     "output_type": "stream",
     "text": [
      "Epoch 28/50 | Train Loss: 0.5459 | Train PPL: 1.7262 | Train Acc: 0.8714 | Valid Loss: 1.8385 | Valid PPL: 6.2871 | Valid Acc: 0.6793\n"
     ]
    },
    {
     "name": "stderr",
     "output_type": "stream",
     "text": [
      "Epoch - train: 100%|██████████| 97/97 [00:01<00:00, 58.38it/s]\n",
      "Epoch - valid: 100%|██████████| 25/25 [00:00<00:00, 215.11it/s]\n"
     ]
    },
    {
     "name": "stdout",
     "output_type": "stream",
     "text": [
      "Epoch 29/50 | Train Loss: 0.5232 | Train PPL: 1.6874 | Train Acc: 0.8780 | Valid Loss: 1.8301 | Valid PPL: 6.2344 | Valid Acc: 0.6830\n"
     ]
    },
    {
     "name": "stderr",
     "output_type": "stream",
     "text": [
      "Epoch - train: 100%|██████████| 97/97 [00:01<00:00, 58.79it/s]\n",
      "Epoch - valid: 100%|██████████| 25/25 [00:00<00:00, 183.03it/s]\n"
     ]
    },
    {
     "name": "stdout",
     "output_type": "stream",
     "text": [
      "Epoch 30/50 | Train Loss: 0.5021 | Train PPL: 1.6522 | Train Acc: 0.8845 | Valid Loss: 1.8382 | Valid PPL: 6.2852 | Valid Acc: 0.6816\n"
     ]
    },
    {
     "name": "stderr",
     "output_type": "stream",
     "text": [
      "Epoch - train: 100%|██████████| 97/97 [00:01<00:00, 53.24it/s]\n",
      "Epoch - valid: 100%|██████████| 25/25 [00:00<00:00, 206.72it/s]\n"
     ]
    },
    {
     "name": "stdout",
     "output_type": "stream",
     "text": [
      "Epoch 31/50 | Train Loss: 0.4806 | Train PPL: 1.6171 | Train Acc: 0.8906 | Valid Loss: 1.8307 | Valid PPL: 6.2382 | Valid Acc: 0.6819\n"
     ]
    },
    {
     "name": "stderr",
     "output_type": "stream",
     "text": [
      "Epoch - train: 100%|██████████| 97/97 [00:01<00:00, 55.69it/s]\n",
      "Epoch - valid: 100%|██████████| 25/25 [00:00<00:00, 216.35it/s]\n"
     ]
    },
    {
     "name": "stdout",
     "output_type": "stream",
     "text": [
      "Epoch 32/50 | Train Loss: 0.4661 | Train PPL: 1.5937 | Train Acc: 0.8962 | Valid Loss: 1.8358 | Valid PPL: 6.2699 | Valid Acc: 0.6849\n"
     ]
    },
    {
     "name": "stderr",
     "output_type": "stream",
     "text": [
      "Epoch - train: 100%|██████████| 97/97 [00:01<00:00, 56.71it/s]\n",
      "Epoch - valid: 100%|██████████| 25/25 [00:00<00:00, 189.35it/s]\n"
     ]
    },
    {
     "name": "stdout",
     "output_type": "stream",
     "text": [
      "Epoch 33/50 | Train Loss: 0.4533 | Train PPL: 1.5735 | Train Acc: 0.8991 | Valid Loss: 1.8373 | Valid PPL: 6.2798 | Valid Acc: 0.6854\n"
     ]
    },
    {
     "name": "stderr",
     "output_type": "stream",
     "text": [
      "Epoch - train: 100%|██████████| 97/97 [00:01<00:00, 56.75it/s]\n",
      "Epoch - valid: 100%|██████████| 25/25 [00:00<00:00, 192.13it/s]\n"
     ]
    },
    {
     "name": "stdout",
     "output_type": "stream",
     "text": [
      "Epoch 34/50 | Train Loss: 0.4390 | Train PPL: 1.5511 | Train Acc: 0.9035 | Valid Loss: 1.8441 | Valid PPL: 6.3227 | Valid Acc: 0.6859\n"
     ]
    },
    {
     "name": "stderr",
     "output_type": "stream",
     "text": [
      "Epoch - train: 100%|██████████| 97/97 [00:01<00:00, 57.71it/s]\n",
      "Epoch - valid: 100%|██████████| 25/25 [00:00<00:00, 222.59it/s]\n"
     ]
    },
    {
     "name": "stdout",
     "output_type": "stream",
     "text": [
      "Epoch 35/50 | Train Loss: 0.4289 | Train PPL: 1.5356 | Train Acc: 0.9065 | Valid Loss: 1.8428 | Valid PPL: 6.3139 | Valid Acc: 0.6850\n"
     ]
    },
    {
     "name": "stderr",
     "output_type": "stream",
     "text": [
      "Epoch - train: 100%|██████████| 97/97 [00:01<00:00, 63.40it/s]\n",
      "Epoch - valid: 100%|██████████| 25/25 [00:00<00:00, 225.08it/s]\n"
     ]
    },
    {
     "name": "stdout",
     "output_type": "stream",
     "text": [
      "Epoch 36/50 | Train Loss: 0.4162 | Train PPL: 1.5161 | Train Acc: 0.9108 | Valid Loss: 1.8345 | Valid PPL: 6.2619 | Valid Acc: 0.6873\n"
     ]
    },
    {
     "name": "stderr",
     "output_type": "stream",
     "text": [
      "Epoch - train: 100%|██████████| 97/97 [00:01<00:00, 65.23it/s]\n",
      "Epoch - valid: 100%|██████████| 25/25 [00:00<00:00, 224.54it/s]\n"
     ]
    },
    {
     "name": "stdout",
     "output_type": "stream",
     "text": [
      "Epoch 37/50 | Train Loss: 0.4018 | Train PPL: 1.4946 | Train Acc: 0.9143 | Valid Loss: 1.8483 | Valid PPL: 6.3490 | Valid Acc: 0.6872\n"
     ]
    },
    {
     "name": "stderr",
     "output_type": "stream",
     "text": [
      "Epoch - train: 100%|██████████| 97/97 [00:01<00:00, 73.48it/s]\n",
      "Epoch - valid: 100%|██████████| 25/25 [00:00<00:00, 221.54it/s]\n"
     ]
    },
    {
     "name": "stdout",
     "output_type": "stream",
     "text": [
      "Epoch 38/50 | Train Loss: 0.3931 | Train PPL: 1.4815 | Train Acc: 0.9174 | Valid Loss: 1.8431 | Valid PPL: 6.3161 | Valid Acc: 0.6859\n"
     ]
    },
    {
     "name": "stderr",
     "output_type": "stream",
     "text": [
      "Epoch - train: 100%|██████████| 97/97 [00:01<00:00, 60.24it/s]\n",
      "Epoch - valid: 100%|██████████| 25/25 [00:00<00:00, 187.76it/s]\n"
     ]
    },
    {
     "name": "stdout",
     "output_type": "stream",
     "text": [
      "Epoch 39/50 | Train Loss: 0.3834 | Train PPL: 1.4672 | Train Acc: 0.9205 | Valid Loss: 1.8498 | Valid PPL: 6.3587 | Valid Acc: 0.6876\n"
     ]
    },
    {
     "name": "stderr",
     "output_type": "stream",
     "text": [
      "Epoch - train: 100%|██████████| 97/97 [00:01<00:00, 58.42it/s]\n",
      "Epoch - valid: 100%|██████████| 25/25 [00:00<00:00, 156.22it/s]\n"
     ]
    },
    {
     "name": "stdout",
     "output_type": "stream",
     "text": [
      "Epoch 40/50 | Train Loss: 0.3771 | Train PPL: 1.4580 | Train Acc: 0.9224 | Valid Loss: 1.8505 | Valid PPL: 6.3627 | Valid Acc: 0.6868\n"
     ]
    },
    {
     "name": "stderr",
     "output_type": "stream",
     "text": [
      "Epoch - train: 100%|██████████| 97/97 [00:01<00:00, 64.05it/s]\n",
      "Epoch - valid: 100%|██████████| 25/25 [00:00<00:00, 197.53it/s]\n"
     ]
    },
    {
     "name": "stdout",
     "output_type": "stream",
     "text": [
      "Epoch 41/50 | Train Loss: 0.3663 | Train PPL: 1.4424 | Train Acc: 0.9258 | Valid Loss: 1.8550 | Valid PPL: 6.3914 | Valid Acc: 0.6879\n"
     ]
    },
    {
     "name": "stderr",
     "output_type": "stream",
     "text": [
      "Epoch - train: 100%|██████████| 97/97 [00:01<00:00, 56.02it/s]\n",
      "Epoch - valid: 100%|██████████| 25/25 [00:00<00:00, 217.38it/s]\n"
     ]
    },
    {
     "name": "stdout",
     "output_type": "stream",
     "text": [
      "Epoch 42/50 | Train Loss: 0.3608 | Train PPL: 1.4345 | Train Acc: 0.9269 | Valid Loss: 1.8419 | Valid PPL: 6.3083 | Valid Acc: 0.6880\n"
     ]
    },
    {
     "name": "stderr",
     "output_type": "stream",
     "text": [
      "Epoch - train: 100%|██████████| 97/97 [00:01<00:00, 56.56it/s]\n",
      "Epoch - valid: 100%|██████████| 25/25 [00:00<00:00, 216.19it/s]\n"
     ]
    },
    {
     "name": "stdout",
     "output_type": "stream",
     "text": [
      "Epoch 43/50 | Train Loss: 0.3515 | Train PPL: 1.4212 | Train Acc: 0.9293 | Valid Loss: 1.8531 | Valid PPL: 6.3798 | Valid Acc: 0.6870\n"
     ]
    },
    {
     "name": "stderr",
     "output_type": "stream",
     "text": [
      "Epoch - train: 100%|██████████| 97/97 [00:01<00:00, 57.18it/s]\n",
      "Epoch - valid: 100%|██████████| 25/25 [00:00<00:00, 220.56it/s]\n"
     ]
    },
    {
     "name": "stdout",
     "output_type": "stream",
     "text": [
      "Epoch 44/50 | Train Loss: 0.3428 | Train PPL: 1.4089 | Train Acc: 0.9321 | Valid Loss: 1.8534 | Valid PPL: 6.3813 | Valid Acc: 0.6872\n"
     ]
    },
    {
     "name": "stderr",
     "output_type": "stream",
     "text": [
      "Epoch - train: 100%|██████████| 97/97 [00:01<00:00, 57.36it/s]\n",
      "Epoch - valid: 100%|██████████| 25/25 [00:00<00:00, 182.09it/s]\n"
     ]
    },
    {
     "name": "stdout",
     "output_type": "stream",
     "text": [
      "Epoch 45/50 | Train Loss: 0.3393 | Train PPL: 1.4040 | Train Acc: 0.9343 | Valid Loss: 1.8500 | Valid PPL: 6.3600 | Valid Acc: 0.6905\n"
     ]
    },
    {
     "name": "stderr",
     "output_type": "stream",
     "text": [
      "Epoch - train: 100%|██████████| 97/97 [00:01<00:00, 49.25it/s]\n",
      "Epoch - valid: 100%|██████████| 25/25 [00:00<00:00, 180.89it/s]\n"
     ]
    },
    {
     "name": "stdout",
     "output_type": "stream",
     "text": [
      "Epoch 46/50 | Train Loss: 0.3319 | Train PPL: 1.3936 | Train Acc: 0.9354 | Valid Loss: 1.8543 | Valid PPL: 6.3875 | Valid Acc: 0.6886\n"
     ]
    },
    {
     "name": "stderr",
     "output_type": "stream",
     "text": [
      "Epoch - train: 100%|██████████| 97/97 [00:01<00:00, 58.86it/s]\n",
      "Epoch - valid: 100%|██████████| 25/25 [00:00<00:00, 199.38it/s]\n"
     ]
    },
    {
     "name": "stdout",
     "output_type": "stream",
     "text": [
      "Epoch 47/50 | Train Loss: 0.3286 | Train PPL: 1.3890 | Train Acc: 0.9365 | Valid Loss: 1.8512 | Valid PPL: 6.3676 | Valid Acc: 0.6904\n"
     ]
    },
    {
     "name": "stderr",
     "output_type": "stream",
     "text": [
      "Epoch - train: 100%|██████████| 97/97 [00:01<00:00, 69.39it/s]\n",
      "Epoch - valid: 100%|██████████| 25/25 [00:00<00:00, 224.25it/s]\n"
     ]
    },
    {
     "name": "stdout",
     "output_type": "stream",
     "text": [
      "Epoch 48/50 | Train Loss: 0.3207 | Train PPL: 1.3780 | Train Acc: 0.9390 | Valid Loss: 1.8622 | Valid PPL: 6.4381 | Valid Acc: 0.6878\n"
     ]
    },
    {
     "name": "stderr",
     "output_type": "stream",
     "text": [
      "Epoch - train: 100%|██████████| 97/97 [00:01<00:00, 58.93it/s]\n",
      "Epoch - valid: 100%|██████████| 25/25 [00:00<00:00, 220.38it/s]\n"
     ]
    },
    {
     "name": "stdout",
     "output_type": "stream",
     "text": [
      "Epoch 49/50 | Train Loss: 0.3164 | Train PPL: 1.3721 | Train Acc: 0.9407 | Valid Loss: 1.8536 | Valid PPL: 6.3829 | Valid Acc: 0.6895\n"
     ]
    },
    {
     "name": "stderr",
     "output_type": "stream",
     "text": [
      "Epoch - train: 100%|██████████| 97/97 [00:01<00:00, 69.88it/s]\n",
      "Epoch - valid: 100%|██████████| 25/25 [00:00<00:00, 225.16it/s]\n"
     ]
    },
    {
     "name": "stdout",
     "output_type": "stream",
     "text": [
      "Epoch 50/50 | Train Loss: 0.3130 | Train PPL: 1.3675 | Train Acc: 0.9410 | Valid Loss: 1.8481 | Valid PPL: 6.3478 | Valid Acc: 0.6904\n",
      "Model saved to ./model_N2_H2_PETrue_DM128.pt\n",
      "Loss & PPL curves saved to loss_ppl_curves_N2_H2_PETrue_DM128.png\n"
     ]
    },
    {
     "data": {
      "image/png": "[encoded data removed]",
      "text/plain": [
       "<Figure size 1200x600 with 2 Axes>"
      ]
     },
     "metadata": {},
     "output_type": "display_data"
    },
    {
     "name": "stdout",
     "output_type": "stream",
     "text": [
      "\n",
      "--- 测试结果 N2_H2_PETrue_DM128 ---\n",
      "原始英文: how are you today\n",
      "中文翻译: 你今天怎么样？\n",
      "\n",
      "原始英文: i really love this movie\n",
      "中文翻译: 我真的爱电影很爱电影。\n",
      "\n",
      "原始英文: can you help me with my homework\n",
      "中文翻译: 你能帮我做我的功课吗？\n",
      "\n",
      "原始英文: the weather is nice outside\n",
      "中文翻译: 天气公司不错。\n",
      "\n",
      "原始英文: this computer runs very fast\n",
      "中文翻译: 这跑开电脑很快。\n",
      "\n",
      "原始英文: please close the window\n",
      "中文翻译: 请关窗户。\n",
      "\n",
      "原始英文: he doesn’t like spicy food\n",
      "中文翻译: 他喜欢这食物。\n",
      "\n",
      "原始英文: they are playing football now\n",
      "中文翻译: 他们现在正在踢足球。\n",
      "\n",
      "\n",
      "==============================\n",
      "此次实验的配置: {'N': 2, 'h': 4, 'use_pe': True, 'd_model': 128, 'd_ff': 512, 'epochs': 50, 'batch_size': 128, 'lr': 1.0, 'warmup_steps': 2000}\n",
      "==============================\n",
      "Using device: cuda:0\n",
      "\n",
      "--- Training Model: N2_H4_PETrue_DM128 ---\n",
      "Loading cached dataset from ./train.bin\n",
      "Loading cached dataset from ./valid.bin\n"
     ]
    },
    {
     "name": "stderr",
     "output_type": "stream",
     "text": [
      "Epoch - train: 100%|██████████| 97/97 [00:01<00:00, 87.08it/s]\n",
      "Epoch - valid: 100%|██████████| 25/25 [00:00<00:00, 227.07it/s]\n"
     ]
    },
    {
     "name": "stdout",
     "output_type": "stream",
     "text": [
      "Epoch 1/50 | Train Loss: 6.2096 | Train PPL: 497.4869 | Train Acc: 0.0782 | Valid Loss: 5.6137 | Valid PPL: 274.1658 | Valid Acc: 0.1133\n"
     ]
    },
    {
     "name": "stderr",
     "output_type": "stream",
     "text": [
      "Epoch - train: 100%|██████████| 97/97 [00:01<00:00, 87.92it/s]\n",
      "Epoch - valid: 100%|██████████| 25/25 [00:00<00:00, 225.59it/s]\n"
     ]
    },
    {
     "name": "stdout",
     "output_type": "stream",
     "text": [
      "Epoch 2/50 | Train Loss: 5.0342 | Train PPL: 153.5732 | Train Acc: 0.1752 | Valid Loss: 4.3725 | Valid PPL: 79.2397 | Valid Acc: 0.2459\n"
     ]
    },
    {
     "name": "stderr",
     "output_type": "stream",
     "text": [
      "Epoch - train: 100%|██████████| 97/97 [00:01<00:00, 87.59it/s]\n",
      "Epoch - valid: 100%|██████████| 25/25 [00:00<00:00, 229.42it/s]\n"
     ]
    },
    {
     "name": "stdout",
     "output_type": "stream",
     "text": [
      "Epoch 3/50 | Train Loss: 4.0817 | Train PPL: 59.2452 | Train Acc: 0.2699 | Valid Loss: 3.7472 | Valid PPL: 42.4031 | Valid Acc: 0.3308\n"
     ]
    },
    {
     "name": "stderr",
     "output_type": "stream",
     "text": [
      "Epoch - train: 100%|██████████| 97/97 [00:01<00:00, 79.22it/s]\n",
      "Epoch - valid: 100%|██████████| 25/25 [00:00<00:00, 226.72it/s]\n"
     ]
    },
    {
     "name": "stdout",
     "output_type": "stream",
     "text": [
      "Epoch 4/50 | Train Loss: 3.5620 | Train PPL: 35.2332 | Train Acc: 0.3533 | Valid Loss: 3.2864 | Valid PPL: 26.7457 | Valid Acc: 0.3968\n"
     ]
    },
    {
     "name": "stderr",
     "output_type": "stream",
     "text": [
      "Epoch - train: 100%|██████████| 97/97 [00:01<00:00, 68.37it/s]\n",
      "Epoch - valid: 100%|██████████| 25/25 [00:00<00:00, 228.23it/s]\n"
     ]
    },
    {
     "name": "stdout",
     "output_type": "stream",
     "text": [
      "Epoch 5/50 | Train Loss: 3.1517 | Train PPL: 23.3765 | Train Acc: 0.4123 | Valid Loss: 2.9414 | Valid PPL: 18.9414 | Valid Acc: 0.4503\n"
     ]
    },
    {
     "name": "stderr",
     "output_type": "stream",
     "text": [
      "Epoch - train: 100%|██████████| 97/97 [00:01<00:00, 80.47it/s]\n",
      "Epoch - valid: 100%|██████████| 25/25 [00:00<00:00, 228.81it/s]\n"
     ]
    },
    {
     "name": "stdout",
     "output_type": "stream",
     "text": [
      "Epoch 6/50 | Train Loss: 2.8078 | Train PPL: 16.5739 | Train Acc: 0.4644 | Valid Loss: 2.6851 | Valid PPL: 14.6593 | Valid Acc: 0.4888\n"
     ]
    },
    {
     "name": "stderr",
     "output_type": "stream",
     "text": [
      "Epoch - train: 100%|██████████| 97/97 [00:01<00:00, 59.44it/s]\n",
      "Epoch - valid: 100%|██████████| 25/25 [00:00<00:00, 224.32it/s]\n"
     ]
    },
    {
     "name": "stdout",
     "output_type": "stream",
     "text": [
      "Epoch 7/50 | Train Loss: 2.5153 | Train PPL: 12.3702 | Train Acc: 0.5057 | Valid Loss: 2.4569 | Valid PPL: 11.6682 | Valid Acc: 0.5267\n"
     ]
    },
    {
     "name": "stderr",
     "output_type": "stream",
     "text": [
      "Epoch - train: 100%|██████████| 97/97 [00:01<00:00, 61.24it/s]\n",
      "Epoch - valid: 100%|██████████| 25/25 [00:00<00:00, 180.02it/s]\n"
     ]
    },
    {
     "name": "stdout",
     "output_type": "stream",
     "text": [
      "Epoch 8/50 | Train Loss: 2.2523 | Train PPL: 9.5091 | Train Acc: 0.5442 | Valid Loss: 2.2805 | Valid PPL: 9.7820 | Valid Acc: 0.5564\n"
     ]
    },
    {
     "name": "stderr",
     "output_type": "stream",
     "text": [
      "Epoch - train: 100%|██████████| 97/97 [00:01<00:00, 54.93it/s]\n",
      "Epoch - valid: 100%|██████████| 25/25 [00:00<00:00, 187.14it/s]\n"
     ]
    },
    {
     "name": "stdout",
     "output_type": "stream",
     "text": [
      "Epoch 9/50 | Train Loss: 2.0151 | Train PPL: 7.5018 | Train Acc: 0.5785 | Valid Loss: 2.1441 | Valid PPL: 8.5342 | Valid Acc: 0.5772\n"
     ]
    },
    {
     "name": "stderr",
     "output_type": "stream",
     "text": [
      "Epoch - train: 100%|██████████| 97/97 [00:01<00:00, 61.67it/s]\n",
      "Epoch - valid: 100%|██████████| 25/25 [00:00<00:00, 223.67it/s]\n"
     ]
    },
    {
     "name": "stdout",
     "output_type": "stream",
     "text": [
      "Epoch 10/50 | Train Loss: 1.7946 | Train PPL: 6.0168 | Train Acc: 0.6144 | Valid Loss: 2.0452 | Valid PPL: 7.7308 | Valid Acc: 0.5982\n"
     ]
    },
    {
     "name": "stderr",
     "output_type": "stream",
     "text": [
      "Epoch - train: 100%|██████████| 97/97 [00:01<00:00, 62.11it/s]\n",
      "Epoch - valid: 100%|██████████| 25/25 [00:00<00:00, 225.71it/s]\n"
     ]
    },
    {
     "name": "stdout",
     "output_type": "stream",
     "text": [
      "Epoch 11/50 | Train Loss: 1.6096 | Train PPL: 5.0006 | Train Acc: 0.6443 | Valid Loss: 1.9638 | Valid PPL: 7.1261 | Valid Acc: 0.6170\n"
     ]
    },
    {
     "name": "stderr",
     "output_type": "stream",
     "text": [
      "Epoch - train: 100%|██████████| 97/97 [00:01<00:00, 81.78it/s]\n",
      "Epoch - valid: 100%|██████████| 25/25 [00:00<00:00, 218.55it/s]\n"
     ]
    },
    {
     "name": "stdout",
     "output_type": "stream",
     "text": [
      "Epoch 12/50 | Train Loss: 1.4477 | Train PPL: 4.2534 | Train Acc: 0.6722 | Valid Loss: 1.9112 | Valid PPL: 6.7614 | Valid Acc: 0.6292\n"
     ]
    },
    {
     "name": "stderr",
     "output_type": "stream",
     "text": [
      "Epoch - train: 100%|██████████| 97/97 [00:01<00:00, 61.91it/s]\n",
      "Epoch - valid: 100%|██████████| 25/25 [00:00<00:00, 212.91it/s]\n"
     ]
    },
    {
     "name": "stdout",
     "output_type": "stream",
     "text": [
      "Epoch 13/50 | Train Loss: 1.3121 | Train PPL: 3.7139 | Train Acc: 0.6967 | Valid Loss: 1.8870 | Valid PPL: 6.5994 | Valid Acc: 0.6396\n"
     ]
    },
    {
     "name": "stderr",
     "output_type": "stream",
     "text": [
      "Epoch - train: 100%|██████████| 97/97 [00:01<00:00, 65.15it/s]\n",
      "Epoch - valid: 100%|██████████| 25/25 [00:00<00:00, 228.01it/s]\n"
     ]
    },
    {
     "name": "stdout",
     "output_type": "stream",
     "text": [
      "Epoch 14/50 | Train Loss: 1.1965 | Train PPL: 3.3086 | Train Acc: 0.7185 | Valid Loss: 1.8573 | Valid PPL: 6.4067 | Valid Acc: 0.6479\n"
     ]
    },
    {
     "name": "stderr",
     "output_type": "stream",
     "text": [
      "Epoch - train: 100%|██████████| 97/97 [00:01<00:00, 60.90it/s]\n",
      "Epoch - valid: 100%|██████████| 25/25 [00:00<00:00, 225.71it/s]\n"
     ]
    },
    {
     "name": "stdout",
     "output_type": "stream",
     "text": [
      "Epoch 15/50 | Train Loss: 1.1017 | Train PPL: 3.0094 | Train Acc: 0.7377 | Valid Loss: 1.8663 | Valid PPL: 6.4642 | Valid Acc: 0.6510\n"
     ]
    },
    {
     "name": "stderr",
     "output_type": "stream",
     "text": [
      "Epoch - train: 100%|██████████| 97/97 [00:01<00:00, 62.02it/s]\n",
      "Epoch - valid: 100%|██████████| 25/25 [00:00<00:00, 228.15it/s]\n"
     ]
    },
    {
     "name": "stdout",
     "output_type": "stream",
     "text": [
      "Epoch 16/50 | Train Loss: 1.0177 | Train PPL: 2.7668 | Train Acc: 0.7537 | Valid Loss: 1.8298 | Valid PPL: 6.2326 | Valid Acc: 0.6581\n"
     ]
    },
    {
     "name": "stderr",
     "output_type": "stream",
     "text": [
      "Epoch - train: 100%|██████████| 97/97 [00:01<00:00, 61.70it/s]\n",
      "Epoch - valid: 100%|██████████| 25/25 [00:00<00:00, 219.24it/s]\n"
     ]
    },
    {
     "name": "stdout",
     "output_type": "stream",
     "text": [
      "Epoch 17/50 | Train Loss: 0.9479 | Train PPL: 2.5803 | Train Acc: 0.7696 | Valid Loss: 1.8450 | Valid PPL: 6.3282 | Valid Acc: 0.6588\n"
     ]
    },
    {
     "name": "stderr",
     "output_type": "stream",
     "text": [
      "Epoch - train: 100%|██████████| 97/97 [00:01<00:00, 62.87it/s]\n",
      "Epoch - valid: 100%|██████████| 25/25 [00:00<00:00, 208.93it/s]\n"
     ]
    },
    {
     "name": "stdout",
     "output_type": "stream",
     "text": [
      "Epoch 18/50 | Train Loss: 0.8896 | Train PPL: 2.4340 | Train Acc: 0.7821 | Valid Loss: 1.8330 | Valid PPL: 6.2523 | Valid Acc: 0.6609\n"
     ]
    },
    {
     "name": "stderr",
     "output_type": "stream",
     "text": [
      "Epoch - train: 100%|██████████| 97/97 [00:01<00:00, 65.16it/s]\n",
      "Epoch - valid: 100%|██████████| 25/25 [00:00<00:00, 229.07it/s]\n"
     ]
    },
    {
     "name": "stdout",
     "output_type": "stream",
     "text": [
      "Epoch 19/50 | Train Loss: 0.8431 | Train PPL: 2.3235 | Train Acc: 0.7926 | Valid Loss: 1.8476 | Valid PPL: 6.3448 | Valid Acc: 0.6638\n"
     ]
    },
    {
     "name": "stderr",
     "output_type": "stream",
     "text": [
      "Epoch - train: 100%|██████████| 97/97 [00:01<00:00, 65.20it/s]\n",
      "Epoch - valid: 100%|██████████| 25/25 [00:00<00:00, 227.49it/s]\n"
     ]
    },
    {
     "name": "stdout",
     "output_type": "stream",
     "text": [
      "Epoch 20/50 | Train Loss: 0.7971 | Train PPL: 2.2190 | Train Acc: 0.8040 | Valid Loss: 1.8484 | Valid PPL: 6.3495 | Valid Acc: 0.6643\n"
     ]
    },
    {
     "name": "stderr",
     "output_type": "stream",
     "text": [
      "Epoch - train: 100%|██████████| 97/97 [00:01<00:00, 61.77it/s]\n",
      "Epoch - valid: 100%|██████████| 25/25 [00:00<00:00, 219.20it/s]\n"
     ]
    },
    {
     "name": "stdout",
     "output_type": "stream",
     "text": [
      "Epoch 21/50 | Train Loss: 0.7595 | Train PPL: 2.1371 | Train Acc: 0.8141 | Valid Loss: 1.8434 | Valid PPL: 6.3178 | Valid Acc: 0.6706\n"
     ]
    },
    {
     "name": "stderr",
     "output_type": "stream",
     "text": [
      "Epoch - train: 100%|██████████| 97/97 [00:01<00:00, 66.31it/s]\n",
      "Epoch - valid: 100%|██████████| 25/25 [00:00<00:00, 210.91it/s]\n"
     ]
    },
    {
     "name": "stdout",
     "output_type": "stream",
     "text": [
      "Epoch 22/50 | Train Loss: 0.7127 | Train PPL: 2.0394 | Train Acc: 0.8258 | Valid Loss: 1.8451 | Valid PPL: 6.3286 | Valid Acc: 0.6749\n"
     ]
    },
    {
     "name": "stderr",
     "output_type": "stream",
     "text": [
      "Epoch - train: 100%|██████████| 97/97 [00:01<00:00, 70.23it/s]\n",
      "Epoch - valid: 100%|██████████| 25/25 [00:00<00:00, 222.81it/s]\n"
     ]
    },
    {
     "name": "stdout",
     "output_type": "stream",
     "text": [
      "Epoch 23/50 | Train Loss: 0.6704 | Train PPL: 1.9551 | Train Acc: 0.8381 | Valid Loss: 1.8474 | Valid PPL: 6.3434 | Valid Acc: 0.6720\n"
     ]
    },
    {
     "name": "stderr",
     "output_type": "stream",
     "text": [
      "Epoch - train: 100%|██████████| 97/97 [00:01<00:00, 68.47it/s]\n",
      "Epoch - valid: 100%|██████████| 25/25 [00:00<00:00, 205.58it/s]\n"
     ]
    },
    {
     "name": "stdout",
     "output_type": "stream",
     "text": [
      "Epoch 24/50 | Train Loss: 0.6310 | Train PPL: 1.8796 | Train Acc: 0.8487 | Valid Loss: 1.8532 | Valid PPL: 6.3802 | Valid Acc: 0.6757\n"
     ]
    },
    {
     "name": "stderr",
     "output_type": "stream",
     "text": [
      "Epoch - train: 100%|██████████| 97/97 [00:01<00:00, 76.86it/s]\n",
      "Epoch - valid: 100%|██████████| 25/25 [00:00<00:00, 196.63it/s]\n"
     ]
    },
    {
     "name": "stdout",
     "output_type": "stream",
     "text": [
      "Epoch 25/50 | Train Loss: 0.6010 | Train PPL: 1.8240 | Train Acc: 0.8565 | Valid Loss: 1.8383 | Valid PPL: 6.2856 | Valid Acc: 0.6759\n"
     ]
    },
    {
     "name": "stderr",
     "output_type": "stream",
     "text": [
      "Epoch - train: 100%|██████████| 97/97 [00:01<00:00, 69.80it/s]\n",
      "Epoch - valid: 100%|██████████| 25/25 [00:00<00:00, 218.29it/s]\n"
     ]
    },
    {
     "name": "stdout",
     "output_type": "stream",
     "text": [
      "Epoch 26/50 | Train Loss: 0.5701 | Train PPL: 1.7684 | Train Acc: 0.8663 | Valid Loss: 1.8393 | Valid PPL: 6.2923 | Valid Acc: 0.6793\n"
     ]
    },
    {
     "name": "stderr",
     "output_type": "stream",
     "text": [
      "Epoch - train: 100%|██████████| 97/97 [00:01<00:00, 59.43it/s]\n",
      "Epoch - valid: 100%|██████████| 25/25 [00:00<00:00, 204.78it/s]\n"
     ]
    },
    {
     "name": "stdout",
     "output_type": "stream",
     "text": [
      "Epoch 27/50 | Train Loss: 0.5405 | Train PPL: 1.7169 | Train Acc: 0.8754 | Valid Loss: 1.8375 | Valid PPL: 6.2811 | Valid Acc: 0.6811\n"
     ]
    },
    {
     "name": "stderr",
     "output_type": "stream",
     "text": [
      "Epoch - train: 100%|██████████| 97/97 [00:01<00:00, 59.99it/s]\n",
      "Epoch - valid: 100%|██████████| 25/25 [00:00<00:00, 226.36it/s]\n"
     ]
    },
    {
     "name": "stdout",
     "output_type": "stream",
     "text": [
      "Epoch 28/50 | Train Loss: 0.5181 | Train PPL: 1.6789 | Train Acc: 0.8821 | Valid Loss: 1.8453 | Valid PPL: 6.3302 | Valid Acc: 0.6821\n"
     ]
    },
    {
     "name": "stderr",
     "output_type": "stream",
     "text": [
      "Epoch - train: 100%|██████████| 97/97 [00:01<00:00, 72.74it/s]\n",
      "Epoch - valid: 100%|██████████| 25/25 [00:00<00:00, 227.17it/s]\n"
     ]
    },
    {
     "name": "stdout",
     "output_type": "stream",
     "text": [
      "Epoch 29/50 | Train Loss: 0.4975 | Train PPL: 1.6447 | Train Acc: 0.8872 | Valid Loss: 1.8199 | Valid PPL: 6.1712 | Valid Acc: 0.6832\n"
     ]
    },
    {
     "name": "stderr",
     "output_type": "stream",
     "text": [
      "Epoch - train: 100%|██████████| 97/97 [00:01<00:00, 56.90it/s]\n",
      "Epoch - valid: 100%|██████████| 25/25 [00:00<00:00, 228.79it/s]\n"
     ]
    },
    {
     "name": "stdout",
     "output_type": "stream",
     "text": [
      "Epoch 30/50 | Train Loss: 0.4747 | Train PPL: 1.6075 | Train Acc: 0.8939 | Valid Loss: 1.8561 | Valid PPL: 6.3990 | Valid Acc: 0.6817\n"
     ]
    },
    {
     "name": "stderr",
     "output_type": "stream",
     "text": [
      "Epoch - train: 100%|██████████| 97/97 [00:01<00:00, 63.41it/s]\n",
      "Epoch - valid: 100%|██████████| 25/25 [00:00<00:00, 209.84it/s]\n"
     ]
    },
    {
     "name": "stdout",
     "output_type": "stream",
     "text": [
      "Epoch 31/50 | Train Loss: 0.4591 | Train PPL: 1.5827 | Train Acc: 0.8992 | Valid Loss: 1.8461 | Valid PPL: 6.3348 | Valid Acc: 0.6854\n"
     ]
    },
    {
     "name": "stderr",
     "output_type": "stream",
     "text": [
      "Epoch - train: 100%|██████████| 97/97 [00:01<00:00, 60.66it/s]\n",
      "Epoch - valid: 100%|██████████| 25/25 [00:00<00:00, 226.07it/s]\n"
     ]
    },
    {
     "name": "stdout",
     "output_type": "stream",
     "text": [
      "Epoch 32/50 | Train Loss: 0.4400 | Train PPL: 1.5527 | Train Acc: 0.9044 | Valid Loss: 1.8435 | Valid PPL: 6.3184 | Valid Acc: 0.6830\n"
     ]
    },
    {
     "name": "stderr",
     "output_type": "stream",
     "text": [
      "Epoch - train: 100%|██████████| 97/97 [00:01<00:00, 61.66it/s]\n",
      "Epoch - valid: 100%|██████████| 25/25 [00:00<00:00, 228.59it/s]\n"
     ]
    },
    {
     "name": "stdout",
     "output_type": "stream",
     "text": [
      "Epoch 33/50 | Train Loss: 0.4282 | Train PPL: 1.5345 | Train Acc: 0.9076 | Valid Loss: 1.8497 | Valid PPL: 6.3580 | Valid Acc: 0.6825\n"
     ]
    },
    {
     "name": "stderr",
     "output_type": "stream",
     "text": [
      "Epoch - train: 100%|██████████| 97/97 [00:01<00:00, 61.01it/s]\n",
      "Epoch - valid: 100%|██████████| 25/25 [00:00<00:00, 213.80it/s]\n"
     ]
    },
    {
     "name": "stdout",
     "output_type": "stream",
     "text": [
      "Epoch 34/50 | Train Loss: 0.4166 | Train PPL: 1.5168 | Train Acc: 0.9115 | Valid Loss: 1.8559 | Valid PPL: 6.3974 | Valid Acc: 0.6848\n"
     ]
    },
    {
     "name": "stderr",
     "output_type": "stream",
     "text": [
      "Epoch - train: 100%|██████████| 97/97 [00:01<00:00, 62.74it/s]\n",
      "Epoch - valid: 100%|██████████| 25/25 [00:00<00:00, 226.38it/s]\n"
     ]
    },
    {
     "name": "stdout",
     "output_type": "stream",
     "text": [
      "Epoch 35/50 | Train Loss: 0.4031 | Train PPL: 1.4964 | Train Acc: 0.9156 | Valid Loss: 1.8469 | Valid PPL: 6.3404 | Valid Acc: 0.6849\n"
     ]
    },
    {
     "name": "stderr",
     "output_type": "stream",
     "text": [
      "Epoch - train: 100%|██████████| 97/97 [00:01<00:00, 54.78it/s]\n",
      "Epoch - valid: 100%|██████████| 25/25 [00:00<00:00, 198.61it/s]\n"
     ]
    },
    {
     "name": "stdout",
     "output_type": "stream",
     "text": [
      "Epoch 36/50 | Train Loss: 0.3922 | Train PPL: 1.4803 | Train Acc: 0.9171 | Valid Loss: 1.8583 | Valid PPL: 6.4126 | Valid Acc: 0.6855\n"
     ]
    },
    {
     "name": "stderr",
     "output_type": "stream",
     "text": [
      "Epoch - train: 100%|██████████| 97/97 [00:01<00:00, 54.76it/s]\n",
      "Epoch - valid: 100%|██████████| 25/25 [00:00<00:00, 204.11it/s]\n"
     ]
    },
    {
     "name": "stdout",
     "output_type": "stream",
     "text": [
      "Epoch 37/50 | Train Loss: 0.3775 | Train PPL: 1.4586 | Train Acc: 0.9239 | Valid Loss: 1.8607 | Valid PPL: 6.4284 | Valid Acc: 0.6837\n"
     ]
    },
    {
     "name": "stderr",
     "output_type": "stream",
     "text": [
      "Epoch - train: 100%|██████████| 97/97 [00:01<00:00, 55.60it/s]\n",
      "Epoch - valid: 100%|██████████| 25/25 [00:00<00:00, 223.47it/s]\n"
     ]
    },
    {
     "name": "stdout",
     "output_type": "stream",
     "text": [
      "Epoch 38/50 | Train Loss: 0.3698 | Train PPL: 1.4474 | Train Acc: 0.9259 | Valid Loss: 1.8479 | Valid PPL: 6.3466 | Valid Acc: 0.6886\n"
     ]
    },
    {
     "name": "stderr",
     "output_type": "stream",
     "text": [
      "Epoch - train: 100%|██████████| 97/97 [00:01<00:00, 62.26it/s]\n",
      "Epoch - valid: 100%|██████████| 25/25 [00:00<00:00, 202.34it/s]\n"
     ]
    },
    {
     "name": "stdout",
     "output_type": "stream",
     "text": [
      "Epoch 39/50 | Train Loss: 0.3627 | Train PPL: 1.4373 | Train Acc: 0.9274 | Valid Loss: 1.8564 | Valid PPL: 6.4009 | Valid Acc: 0.6871\n"
     ]
    },
    {
     "name": "stderr",
     "output_type": "stream",
     "text": [
      "Epoch - train: 100%|██████████| 97/97 [00:01<00:00, 55.99it/s]\n",
      "Epoch - valid: 100%|██████████| 25/25 [00:00<00:00, 226.95it/s]\n"
     ]
    },
    {
     "name": "stdout",
     "output_type": "stream",
     "text": [
      "Epoch 40/50 | Train Loss: 0.3502 | Train PPL: 1.4193 | Train Acc: 0.9316 | Valid Loss: 1.8442 | Valid PPL: 6.3231 | Valid Acc: 0.6876\n"
     ]
    },
    {
     "name": "stderr",
     "output_type": "stream",
     "text": [
      "Epoch - train: 100%|██████████| 97/97 [00:01<00:00, 59.48it/s]\n",
      "Epoch - valid: 100%|██████████| 25/25 [00:00<00:00, 226.02it/s]\n"
     ]
    },
    {
     "name": "stdout",
     "output_type": "stream",
     "text": [
      "Epoch 41/50 | Train Loss: 0.3449 | Train PPL: 1.4119 | Train Acc: 0.9331 | Valid Loss: 1.8598 | Valid PPL: 6.4227 | Valid Acc: 0.6878\n"
     ]
    },
    {
     "name": "stderr",
     "output_type": "stream",
     "text": [
      "Epoch - train: 100%|██████████| 97/97 [00:01<00:00, 62.01it/s]\n",
      "Epoch - valid: 100%|██████████| 25/25 [00:00<00:00, 229.31it/s]\n"
     ]
    },
    {
     "name": "stdout",
     "output_type": "stream",
     "text": [
      "Epoch 42/50 | Train Loss: 0.3371 | Train PPL: 1.4008 | Train Acc: 0.9348 | Valid Loss: 1.8606 | Valid PPL: 6.4278 | Valid Acc: 0.6871\n"
     ]
    },
    {
     "name": "stderr",
     "output_type": "stream",
     "text": [
      "Epoch - train: 100%|██████████| 97/97 [00:01<00:00, 55.20it/s]\n",
      "Epoch - valid: 100%|██████████| 25/25 [00:00<00:00, 225.18it/s]\n"
     ]
    },
    {
     "name": "stdout",
     "output_type": "stream",
     "text": [
      "Epoch 43/50 | Train Loss: 0.3314 | Train PPL: 1.3929 | Train Acc: 0.9366 | Valid Loss: 1.8508 | Valid PPL: 6.3647 | Valid Acc: 0.6903\n"
     ]
    },
    {
     "name": "stderr",
     "output_type": "stream",
     "text": [
      "Epoch - train: 100%|██████████| 97/97 [00:01<00:00, 51.47it/s]\n",
      "Epoch - valid: 100%|██████████| 25/25 [00:00<00:00, 203.83it/s]\n"
     ]
    },
    {
     "name": "stdout",
     "output_type": "stream",
     "text": [
      "Epoch 44/50 | Train Loss: 0.3227 | Train PPL: 1.3809 | Train Acc: 0.9397 | Valid Loss: 1.8584 | Valid PPL: 6.4135 | Valid Acc: 0.6896\n"
     ]
    },
    {
     "name": "stderr",
     "output_type": "stream",
     "text": [
      "Epoch - train: 100%|██████████| 97/97 [00:01<00:00, 56.30it/s]\n",
      "Epoch - valid: 100%|██████████| 25/25 [00:00<00:00, 180.82it/s]\n"
     ]
    },
    {
     "name": "stdout",
     "output_type": "stream",
     "text": [
      "Epoch 45/50 | Train Loss: 0.3148 | Train PPL: 1.3700 | Train Acc: 0.9408 | Valid Loss: 1.8566 | Valid PPL: 6.4021 | Valid Acc: 0.6885\n"
     ]
    },
    {
     "name": "stderr",
     "output_type": "stream",
     "text": [
      "Epoch - train: 100%|██████████| 97/97 [00:01<00:00, 64.38it/s]\n",
      "Epoch - valid: 100%|██████████| 25/25 [00:00<00:00, 216.54it/s]\n"
     ]
    },
    {
     "name": "stdout",
     "output_type": "stream",
     "text": [
      "Epoch 46/50 | Train Loss: 0.3117 | Train PPL: 1.3658 | Train Acc: 0.9424 | Valid Loss: 1.8556 | Valid PPL: 6.3953 | Valid Acc: 0.6891\n"
     ]
    },
    {
     "name": "stderr",
     "output_type": "stream",
     "text": [
      "Epoch - train: 100%|██████████| 97/97 [00:01<00:00, 62.09it/s]\n",
      "Epoch - valid: 100%|██████████| 25/25 [00:00<00:00, 226.59it/s]\n"
     ]
    },
    {
     "name": "stdout",
     "output_type": "stream",
     "text": [
      "Epoch 47/50 | Train Loss: 0.3058 | Train PPL: 1.3577 | Train Acc: 0.9439 | Valid Loss: 1.8487 | Valid PPL: 6.3517 | Valid Acc: 0.6905\n"
     ]
    },
    {
     "name": "stderr",
     "output_type": "stream",
     "text": [
      "Epoch - train: 100%|██████████| 97/97 [00:01<00:00, 63.13it/s]\n",
      "Epoch - valid: 100%|██████████| 25/25 [00:00<00:00, 228.44it/s]\n"
     ]
    },
    {
     "name": "stdout",
     "output_type": "stream",
     "text": [
      "Epoch 48/50 | Train Loss: 0.2992 | Train PPL: 1.3488 | Train Acc: 0.9462 | Valid Loss: 1.8582 | Valid PPL: 6.4123 | Valid Acc: 0.6900\n"
     ]
    },
    {
     "name": "stderr",
     "output_type": "stream",
     "text": [
      "Epoch - train: 100%|██████████| 97/97 [00:01<00:00, 68.35it/s]\n",
      "Epoch - valid: 100%|██████████| 25/25 [00:00<00:00, 221.56it/s]\n"
     ]
    },
    {
     "name": "stdout",
     "output_type": "stream",
     "text": [
      "Epoch 49/50 | Train Loss: 0.2943 | Train PPL: 1.3422 | Train Acc: 0.9480 | Valid Loss: 1.8593 | Valid PPL: 6.4191 | Valid Acc: 0.6912\n"
     ]
    },
    {
     "name": "stderr",
     "output_type": "stream",
     "text": [
      "Epoch - train: 100%|██████████| 97/97 [00:01<00:00, 59.55it/s]\n",
      "Epoch - valid: 100%|██████████| 25/25 [00:00<00:00, 224.29it/s]\n"
     ]
    },
    {
     "name": "stdout",
     "output_type": "stream",
     "text": [
      "Epoch 50/50 | Train Loss: 0.2891 | Train PPL: 1.3352 | Train Acc: 0.9490 | Valid Loss: 1.8586 | Valid PPL: 6.4147 | Valid Acc: 0.6890\n",
      "Model saved to ./model_N2_H4_PETrue_DM128.pt\n",
      "Loss & PPL curves saved to loss_ppl_curves_N2_H4_PETrue_DM128.png\n"
     ]
    },
    {
     "data": {
      "image/png": "[encoded data removed]",
      "text/plain": [
       "<Figure size 1200x600 with 2 Axes>"
      ]
     },
     "metadata": {},
     "output_type": "display_data"
    },
    {
     "name": "stdout",
     "output_type": "stream",
     "text": [
      "\n",
      "--- 测试结果 N2_H4_PETrue_DM128 ---\n",
      "原始英文: how are you today\n",
      "中文翻译: 你今天是多少？\n",
      "\n",
      "原始英文: i really love this movie\n",
      "中文翻译: 我真的很爱看这个电影。\n",
      "\n",
      "原始英文: can you help me with my homework\n",
      "中文翻译: 你能帮我的功课吗？\n",
      "\n",
      "原始英文: the weather is nice outside\n",
      "中文翻译: 天气美丽正在出来。\n",
      "\n",
      "原始英文: this computer runs very fast\n",
      "中文翻译: 这个妈妈快乐。\n",
      "\n",
      "原始英文: please close the window\n",
      "中文翻译: 请关门。\n",
      "\n",
      "原始英文: he doesn’t like spicy food\n",
      "中文翻译: 他喜欢辣椒。\n",
      "\n",
      "原始英文: they are playing football now\n",
      "中文翻译: 他们现在正在踢足球。\n",
      "\n",
      "\n",
      "==============================\n",
      "此次实验的配置: {'N': 2, 'h': 2, 'use_pe': False, 'd_model': 128, 'd_ff': 512, 'epochs': 50, 'batch_size': 128, 'lr': 1.0, 'warmup_steps': 2000}\n",
      "==============================\n",
      "Using device: cuda:0\n",
      "\n",
      "--- Training Model: N2_H2_PEFalse_DM128 ---\n",
      "Loading cached dataset from ./train.bin\n",
      "Loading cached dataset from ./valid.bin\n"
     ]
    },
    {
     "name": "stderr",
     "output_type": "stream",
     "text": [
      "Epoch - train: 100%|██████████| 97/97 [00:01<00:00, 61.94it/s]\n",
      "Epoch - valid: 100%|██████████| 25/25 [00:00<00:00, 227.26it/s]\n"
     ]
    },
    {
     "name": "stdout",
     "output_type": "stream",
     "text": [
      "Epoch 1/50 | Train Loss: 6.2238 | Train PPL: 504.6232 | Train Acc: 0.0786 | Valid Loss: 5.5621 | Valid PPL: 260.3786 | Valid Acc: 0.1665\n"
     ]
    },
    {
     "name": "stderr",
     "output_type": "stream",
     "text": [
      "Epoch - train: 100%|██████████| 97/97 [00:01<00:00, 59.53it/s]\n",
      "Epoch - valid: 100%|██████████| 25/25 [00:00<00:00, 206.04it/s]\n"
     ]
    },
    {
     "name": "stdout",
     "output_type": "stream",
     "text": [
      "Epoch 2/50 | Train Loss: 4.9625 | Train PPL: 142.9503 | Train Acc: 0.2153 | Valid Loss: 4.3254 | Valid PPL: 75.5961 | Valid Acc: 0.2565\n"
     ]
    },
    {
     "name": "stderr",
     "output_type": "stream",
     "text": [
      "Epoch - train: 100%|██████████| 97/97 [00:01<00:00, 57.60it/s]\n",
      "Epoch - valid: 100%|██████████| 25/25 [00:00<00:00, 220.28it/s]\n"
     ]
    },
    {
     "name": "stdout",
     "output_type": "stream",
     "text": [
      "Epoch 3/50 | Train Loss: 4.0114 | Train PPL: 55.2223 | Train Acc: 0.2948 | Valid Loss: 3.6253 | Valid PPL: 37.5368 | Valid Acc: 0.3539\n"
     ]
    },
    {
     "name": "stderr",
     "output_type": "stream",
     "text": [
      "Epoch - train: 100%|██████████| 97/97 [00:01<00:00, 61.18it/s]\n",
      "Epoch - valid: 100%|██████████| 25/25 [00:00<00:00, 230.25it/s]\n"
     ]
    },
    {
     "name": "stdout",
     "output_type": "stream",
     "text": [
      "Epoch 4/50 | Train Loss: 3.4062 | Train PPL: 30.1490 | Train Acc: 0.3811 | Valid Loss: 3.1471 | Valid PPL: 23.2688 | Valid Acc: 0.4247\n"
     ]
    },
    {
     "name": "stderr",
     "output_type": "stream",
     "text": [
      "Epoch - train: 100%|██████████| 97/97 [00:01<00:00, 69.62it/s]\n",
      "Epoch - valid: 100%|██████████| 25/25 [00:00<00:00, 224.81it/s]\n"
     ]
    },
    {
     "name": "stdout",
     "output_type": "stream",
     "text": [
      "Epoch 5/50 | Train Loss: 2.9541 | Train PPL: 19.1853 | Train Acc: 0.4479 | Valid Loss: 2.8157 | Valid PPL: 16.7055 | Valid Acc: 0.4726\n"
     ]
    },
    {
     "name": "stderr",
     "output_type": "stream",
     "text": [
      "Epoch - train: 100%|██████████| 97/97 [00:01<00:00, 65.80it/s]\n",
      "Epoch - valid: 100%|██████████| 25/25 [00:00<00:00, 230.54it/s]\n"
     ]
    },
    {
     "name": "stdout",
     "output_type": "stream",
     "text": [
      "Epoch 6/50 | Train Loss: 2.5885 | Train PPL: 13.3104 | Train Acc: 0.5022 | Valid Loss: 2.5735 | Valid PPL: 13.1110 | Valid Acc: 0.5075\n"
     ]
    },
    {
     "name": "stderr",
     "output_type": "stream",
     "text": [
      "Epoch - train: 100%|██████████| 97/97 [00:01<00:00, 76.70it/s]\n",
      "Epoch - valid: 100%|██████████| 25/25 [00:00<00:00, 213.16it/s]\n"
     ]
    },
    {
     "name": "stdout",
     "output_type": "stream",
     "text": [
      "Epoch 7/50 | Train Loss: 2.2915 | Train PPL: 9.8893 | Train Acc: 0.5413 | Valid Loss: 2.3876 | Valid PPL: 10.8878 | Valid Acc: 0.5330\n"
     ]
    },
    {
     "name": "stderr",
     "output_type": "stream",
     "text": [
      "Epoch - train: 100%|██████████| 97/97 [00:01<00:00, 63.67it/s]\n",
      "Epoch - valid: 100%|██████████| 25/25 [00:00<00:00, 230.31it/s]\n"
     ]
    },
    {
     "name": "stdout",
     "output_type": "stream",
     "text": [
      "Epoch 8/50 | Train Loss: 2.0234 | Train PPL: 7.5641 | Train Acc: 0.5812 | Valid Loss: 2.2557 | Valid PPL: 9.5420 | Valid Acc: 0.5588\n"
     ]
    },
    {
     "name": "stderr",
     "output_type": "stream",
     "text": [
      "Epoch - train: 100%|██████████| 97/97 [00:01<00:00, 66.06it/s]\n",
      "Epoch - valid: 100%|██████████| 25/25 [00:00<00:00, 215.91it/s]\n"
     ]
    },
    {
     "name": "stdout",
     "output_type": "stream",
     "text": [
      "Epoch 9/50 | Train Loss: 1.7918 | Train PPL: 6.0001 | Train Acc: 0.6171 | Valid Loss: 2.1371 | Valid PPL: 8.4749 | Valid Acc: 0.5815\n"
     ]
    },
    {
     "name": "stderr",
     "output_type": "stream",
     "text": [
      "Epoch - train: 100%|██████████| 97/97 [00:01<00:00, 76.06it/s]\n",
      "Epoch - valid: 100%|██████████| 25/25 [00:00<00:00, 228.95it/s]\n"
     ]
    },
    {
     "name": "stdout",
     "output_type": "stream",
     "text": [
      "Epoch 10/50 | Train Loss: 1.5910 | Train PPL: 4.9087 | Train Acc: 0.6485 | Valid Loss: 2.0610 | Valid PPL: 7.8539 | Valid Acc: 0.5961\n"
     ]
    },
    {
     "name": "stderr",
     "output_type": "stream",
     "text": [
      "Epoch - train: 100%|██████████| 97/97 [00:01<00:00, 76.02it/s]\n",
      "Epoch - valid: 100%|██████████| 25/25 [00:00<00:00, 230.75it/s]\n"
     ]
    },
    {
     "name": "stdout",
     "output_type": "stream",
     "text": [
      "Epoch 11/50 | Train Loss: 1.4200 | Train PPL: 4.1370 | Train Acc: 0.6782 | Valid Loss: 2.0134 | Valid PPL: 7.4890 | Valid Acc: 0.6092\n"
     ]
    },
    {
     "name": "stderr",
     "output_type": "stream",
     "text": [
      "Epoch - train: 100%|██████████| 97/97 [00:01<00:00, 79.12it/s]\n",
      "Epoch - valid: 100%|██████████| 25/25 [00:00<00:00, 228.52it/s]\n"
     ]
    },
    {
     "name": "stdout",
     "output_type": "stream",
     "text": [
      "Epoch 12/50 | Train Loss: 1.2806 | Train PPL: 3.5986 | Train Acc: 0.7030 | Valid Loss: 1.9782 | Valid PPL: 7.2297 | Valid Acc: 0.6162\n"
     ]
    },
    {
     "name": "stderr",
     "output_type": "stream",
     "text": [
      "Epoch - train: 100%|██████████| 97/97 [00:01<00:00, 78.95it/s]\n",
      "Epoch - valid: 100%|██████████| 25/25 [00:00<00:00, 227.26it/s]\n"
     ]
    },
    {
     "name": "stdout",
     "output_type": "stream",
     "text": [
      "Epoch 13/50 | Train Loss: 1.1684 | Train PPL: 3.2167 | Train Acc: 0.7242 | Valid Loss: 1.9616 | Valid PPL: 7.1110 | Valid Acc: 0.6238\n"
     ]
    },
    {
     "name": "stderr",
     "output_type": "stream",
     "text": [
      "Epoch - train: 100%|██████████| 97/97 [00:01<00:00, 78.72it/s]\n",
      "Epoch - valid: 100%|██████████| 25/25 [00:00<00:00, 229.07it/s]\n"
     ]
    },
    {
     "name": "stdout",
     "output_type": "stream",
     "text": [
      "Epoch 14/50 | Train Loss: 1.0698 | Train PPL: 2.9147 | Train Acc: 0.7444 | Valid Loss: 1.9662 | Valid PPL: 7.1434 | Valid Acc: 0.6258\n"
     ]
    },
    {
     "name": "stderr",
     "output_type": "stream",
     "text": [
      "Epoch - train: 100%|██████████| 97/97 [00:01<00:00, 78.76it/s]\n",
      "Epoch - valid: 100%|██████████| 25/25 [00:00<00:00, 223.84it/s]\n"
     ]
    },
    {
     "name": "stdout",
     "output_type": "stream",
     "text": [
      "Epoch 15/50 | Train Loss: 0.9924 | Train PPL: 2.6978 | Train Acc: 0.7592 | Valid Loss: 1.9560 | Valid PPL: 7.0707 | Valid Acc: 0.6330\n"
     ]
    },
    {
     "name": "stderr",
     "output_type": "stream",
     "text": [
      "Epoch - train: 100%|██████████| 97/97 [00:01<00:00, 72.98it/s]\n",
      "Epoch - valid: 100%|██████████| 25/25 [00:00<00:00, 229.84it/s]\n"
     ]
    },
    {
     "name": "stdout",
     "output_type": "stream",
     "text": [
      "Epoch 16/50 | Train Loss: 0.9241 | Train PPL: 2.5196 | Train Acc: 0.7738 | Valid Loss: 1.9660 | Valid PPL: 7.1420 | Valid Acc: 0.6348\n"
     ]
    },
    {
     "name": "stderr",
     "output_type": "stream",
     "text": [
      "Epoch - train: 100%|██████████| 97/97 [00:01<00:00, 77.28it/s]\n",
      "Epoch - valid: 100%|██████████| 25/25 [00:00<00:00, 227.01it/s]\n"
     ]
    },
    {
     "name": "stdout",
     "output_type": "stream",
     "text": [
      "Epoch 17/50 | Train Loss: 0.8726 | Train PPL: 2.3930 | Train Acc: 0.7864 | Valid Loss: 1.9444 | Valid PPL: 6.9893 | Valid Acc: 0.6397\n"
     ]
    },
    {
     "name": "stderr",
     "output_type": "stream",
     "text": [
      "Epoch - train: 100%|██████████| 97/97 [00:01<00:00, 64.86it/s]\n",
      "Epoch - valid: 100%|██████████| 25/25 [00:00<00:00, 229.97it/s]\n"
     ]
    },
    {
     "name": "stdout",
     "output_type": "stream",
     "text": [
      "Epoch 18/50 | Train Loss: 0.8246 | Train PPL: 2.2809 | Train Acc: 0.7960 | Valid Loss: 1.9606 | Valid PPL: 7.1039 | Valid Acc: 0.6375\n"
     ]
    },
    {
     "name": "stderr",
     "output_type": "stream",
     "text": [
      "Epoch - train: 100%|██████████| 97/97 [00:01<00:00, 60.82it/s]\n",
      "Epoch - valid: 100%|██████████| 25/25 [00:00<00:00, 230.99it/s]\n"
     ]
    },
    {
     "name": "stdout",
     "output_type": "stream",
     "text": [
      "Epoch 19/50 | Train Loss: 0.7828 | Train PPL: 2.1876 | Train Acc: 0.8079 | Valid Loss: 1.9552 | Valid PPL: 7.0656 | Valid Acc: 0.6415\n"
     ]
    },
    {
     "name": "stderr",
     "output_type": "stream",
     "text": [
      "Epoch - train: 100%|██████████| 97/97 [00:01<00:00, 67.00it/s]\n",
      "Epoch - valid: 100%|██████████| 25/25 [00:00<00:00, 232.39it/s]\n"
     ]
    },
    {
     "name": "stdout",
     "output_type": "stream",
     "text": [
      "Epoch 20/50 | Train Loss: 0.7508 | Train PPL: 2.1187 | Train Acc: 0.8160 | Valid Loss: 1.9562 | Valid PPL: 7.0724 | Valid Acc: 0.6456\n"
     ]
    },
    {
     "name": "stderr",
     "output_type": "stream",
     "text": [
      "Epoch - train: 100%|██████████| 97/97 [00:01<00:00, 68.95it/s]\n",
      "Epoch - valid: 100%|██████████| 25/25 [00:00<00:00, 209.30it/s]\n"
     ]
    },
    {
     "name": "stdout",
     "output_type": "stream",
     "text": [
      "Epoch 21/50 | Train Loss: 0.7191 | Train PPL: 2.0525 | Train Acc: 0.8252 | Valid Loss: 1.9709 | Valid PPL: 7.1775 | Valid Acc: 0.6466\n"
     ]
    },
    {
     "name": "stderr",
     "output_type": "stream",
     "text": [
      "Epoch - train: 100%|██████████| 97/97 [00:01<00:00, 72.92it/s]\n",
      "Epoch - valid: 100%|██████████| 25/25 [00:00<00:00, 194.79it/s]\n"
     ]
    },
    {
     "name": "stdout",
     "output_type": "stream",
     "text": [
      "Epoch 22/50 | Train Loss: 0.6807 | Train PPL: 1.9753 | Train Acc: 0.8352 | Valid Loss: 1.9539 | Valid PPL: 7.0564 | Valid Acc: 0.6491\n"
     ]
    },
    {
     "name": "stderr",
     "output_type": "stream",
     "text": [
      "Epoch - train: 100%|██████████| 97/97 [00:01<00:00, 65.72it/s]\n",
      "Epoch - valid: 100%|██████████| 25/25 [00:00<00:00, 196.70it/s]\n"
     ]
    },
    {
     "name": "stdout",
     "output_type": "stream",
     "text": [
      "Epoch 23/50 | Train Loss: 0.6274 | Train PPL: 1.8728 | Train Acc: 0.8508 | Valid Loss: 1.9651 | Valid PPL: 7.1360 | Valid Acc: 0.6510\n"
     ]
    },
    {
     "name": "stderr",
     "output_type": "stream",
     "text": [
      "Epoch - train: 100%|██████████| 97/97 [00:01<00:00, 63.11it/s]\n",
      "Epoch - valid: 100%|██████████| 25/25 [00:00<00:00, 225.44it/s]\n"
     ]
    },
    {
     "name": "stdout",
     "output_type": "stream",
     "text": [
      "Epoch 24/50 | Train Loss: 0.5879 | Train PPL: 1.8002 | Train Acc: 0.8626 | Valid Loss: 1.9598 | Valid PPL: 7.0978 | Valid Acc: 0.6524\n"
     ]
    },
    {
     "name": "stderr",
     "output_type": "stream",
     "text": [
      "Epoch - train: 100%|██████████| 97/97 [00:01<00:00, 58.47it/s]\n",
      "Epoch - valid: 100%|██████████| 25/25 [00:00<00:00, 203.31it/s]\n"
     ]
    },
    {
     "name": "stdout",
     "output_type": "stream",
     "text": [
      "Epoch 25/50 | Train Loss: 0.5525 | Train PPL: 1.7376 | Train Acc: 0.8721 | Valid Loss: 1.9546 | Valid PPL: 7.0611 | Valid Acc: 0.6539\n"
     ]
    },
    {
     "name": "stderr",
     "output_type": "stream",
     "text": [
      "Epoch - train: 100%|██████████| 97/97 [00:01<00:00, 55.82it/s]\n",
      "Epoch - valid: 100%|██████████| 25/25 [00:00<00:00, 205.78it/s]\n"
     ]
    },
    {
     "name": "stdout",
     "output_type": "stream",
     "text": [
      "Epoch 26/50 | Train Loss: 0.5239 | Train PPL: 1.6886 | Train Acc: 0.8809 | Valid Loss: 1.9613 | Valid PPL: 7.1083 | Valid Acc: 0.6595\n"
     ]
    },
    {
     "name": "stderr",
     "output_type": "stream",
     "text": [
      "Epoch - train: 100%|██████████| 97/97 [00:01<00:00, 59.52it/s]\n",
      "Epoch - valid: 100%|██████████| 25/25 [00:00<00:00, 205.55it/s]\n"
     ]
    },
    {
     "name": "stdout",
     "output_type": "stream",
     "text": [
      "Epoch 27/50 | Train Loss: 0.4954 | Train PPL: 1.6412 | Train Acc: 0.8900 | Valid Loss: 1.9560 | Valid PPL: 7.0712 | Valid Acc: 0.6588\n"
     ]
    },
    {
     "name": "stderr",
     "output_type": "stream",
     "text": [
      "Epoch - train: 100%|██████████| 97/97 [00:01<00:00, 69.26it/s]\n",
      "Epoch - valid: 100%|██████████| 25/25 [00:00<00:00, 215.43it/s]\n"
     ]
    },
    {
     "name": "stdout",
     "output_type": "stream",
     "text": [
      "Epoch 28/50 | Train Loss: 0.4737 | Train PPL: 1.6059 | Train Acc: 0.8958 | Valid Loss: 1.9554 | Valid PPL: 7.0670 | Valid Acc: 0.6583\n"
     ]
    },
    {
     "name": "stderr",
     "output_type": "stream",
     "text": [
      "Epoch - train: 100%|██████████| 97/97 [00:01<00:00, 80.52it/s]\n",
      "Epoch - valid: 100%|██████████| 25/25 [00:00<00:00, 213.14it/s]\n"
     ]
    },
    {
     "name": "stdout",
     "output_type": "stream",
     "text": [
      "Epoch 29/50 | Train Loss: 0.4507 | Train PPL: 1.5695 | Train Acc: 0.9030 | Valid Loss: 1.9678 | Valid PPL: 7.1546 | Valid Acc: 0.6612\n"
     ]
    },
    {
     "name": "stderr",
     "output_type": "stream",
     "text": [
      "Epoch - train: 100%|██████████| 97/97 [00:01<00:00, 74.45it/s]\n",
      "Epoch - valid: 100%|██████████| 25/25 [00:00<00:00, 231.61it/s]\n"
     ]
    },
    {
     "name": "stdout",
     "output_type": "stream",
     "text": [
      "Epoch 30/50 | Train Loss: 0.4328 | Train PPL: 1.5416 | Train Acc: 0.9080 | Valid Loss: 1.9672 | Valid PPL: 7.1509 | Valid Acc: 0.6595\n"
     ]
    },
    {
     "name": "stderr",
     "output_type": "stream",
     "text": [
      "Epoch - train: 100%|██████████| 97/97 [00:01<00:00, 63.27it/s]\n",
      "Epoch - valid: 100%|██████████| 25/25 [00:00<00:00, 220.16it/s]\n"
     ]
    },
    {
     "name": "stdout",
     "output_type": "stream",
     "text": [
      "Epoch 31/50 | Train Loss: 0.4173 | Train PPL: 1.5179 | Train Acc: 0.9121 | Valid Loss: 1.9606 | Valid PPL: 7.1035 | Valid Acc: 0.6591\n"
     ]
    },
    {
     "name": "stderr",
     "output_type": "stream",
     "text": [
      "Epoch - train: 100%|██████████| 97/97 [00:01<00:00, 72.98it/s]\n",
      "Epoch - valid: 100%|██████████| 25/25 [00:00<00:00, 228.55it/s]\n"
     ]
    },
    {
     "name": "stdout",
     "output_type": "stream",
     "text": [
      "Epoch 32/50 | Train Loss: 0.3977 | Train PPL: 1.4884 | Train Acc: 0.9185 | Valid Loss: 1.9567 | Valid PPL: 7.0762 | Valid Acc: 0.6616\n"
     ]
    },
    {
     "name": "stderr",
     "output_type": "stream",
     "text": [
      "Epoch - train: 100%|██████████| 97/97 [00:01<00:00, 66.01it/s]\n",
      "Epoch - valid: 100%|██████████| 25/25 [00:00<00:00, 228.18it/s]\n"
     ]
    },
    {
     "name": "stdout",
     "output_type": "stream",
     "text": [
      "Epoch 33/50 | Train Loss: 0.3839 | Train PPL: 1.4681 | Train Acc: 0.9225 | Valid Loss: 1.9600 | Valid PPL: 7.0995 | Valid Acc: 0.6638\n"
     ]
    },
    {
     "name": "stderr",
     "output_type": "stream",
     "text": [
      "Epoch - train: 100%|██████████| 97/97 [00:01<00:00, 83.17it/s]\n",
      "Epoch - valid: 100%|██████████| 25/25 [00:00<00:00, 229.68it/s]\n"
     ]
    },
    {
     "name": "stdout",
     "output_type": "stream",
     "text": [
      "Epoch 34/50 | Train Loss: 0.3705 | Train PPL: 1.4485 | Train Acc: 0.9277 | Valid Loss: 1.9581 | Valid PPL: 7.0862 | Valid Acc: 0.6614\n"
     ]
    },
    {
     "name": "stderr",
     "output_type": "stream",
     "text": [
      "Epoch - train: 100%|██████████| 97/97 [00:01<00:00, 83.35it/s]\n",
      "Epoch - valid: 100%|██████████| 25/25 [00:00<00:00, 230.89it/s]\n"
     ]
    },
    {
     "name": "stdout",
     "output_type": "stream",
     "text": [
      "Epoch 35/50 | Train Loss: 0.3595 | Train PPL: 1.4326 | Train Acc: 0.9296 | Valid Loss: 1.9711 | Valid PPL: 7.1787 | Valid Acc: 0.6629\n"
     ]
    },
    {
     "name": "stderr",
     "output_type": "stream",
     "text": [
      "Epoch - train: 100%|██████████| 97/97 [00:01<00:00, 85.83it/s]\n",
      "Epoch - valid: 100%|██████████| 25/25 [00:00<00:00, 225.50it/s]\n"
     ]
    },
    {
     "name": "stdout",
     "output_type": "stream",
     "text": [
      "Epoch 36/50 | Train Loss: 0.3476 | Train PPL: 1.4157 | Train Acc: 0.9333 | Valid Loss: 1.9763 | Valid PPL: 7.2159 | Valid Acc: 0.6617\n"
     ]
    },
    {
     "name": "stderr",
     "output_type": "stream",
     "text": [
      "Epoch - train: 100%|██████████| 97/97 [00:01<00:00, 66.81it/s]\n",
      "Epoch - valid: 100%|██████████| 25/25 [00:00<00:00, 227.77it/s]\n"
     ]
    },
    {
     "name": "stdout",
     "output_type": "stream",
     "text": [
      "Epoch 37/50 | Train Loss: 0.3388 | Train PPL: 1.4033 | Train Acc: 0.9357 | Valid Loss: 1.9744 | Valid PPL: 7.2020 | Valid Acc: 0.6618\n"
     ]
    },
    {
     "name": "stderr",
     "output_type": "stream",
     "text": [
      "Epoch - train: 100%|██████████| 97/97 [00:01<00:00, 62.36it/s]\n",
      "Epoch - valid: 100%|██████████| 25/25 [00:00<00:00, 231.39it/s]\n"
     ]
    },
    {
     "name": "stdout",
     "output_type": "stream",
     "text": [
      "Epoch 38/50 | Train Loss: 0.3305 | Train PPL: 1.3916 | Train Acc: 0.9373 | Valid Loss: 1.9695 | Valid PPL: 7.1667 | Valid Acc: 0.6639\n"
     ]
    },
    {
     "name": "stderr",
     "output_type": "stream",
     "text": [
      "Epoch - train: 100%|██████████| 97/97 [00:01<00:00, 73.31it/s]\n",
      "Epoch - valid: 100%|██████████| 25/25 [00:00<00:00, 230.96it/s]\n"
     ]
    },
    {
     "name": "stdout",
     "output_type": "stream",
     "text": [
      "Epoch 39/50 | Train Loss: 0.3209 | Train PPL: 1.3783 | Train Acc: 0.9405 | Valid Loss: 1.9644 | Valid PPL: 7.1306 | Valid Acc: 0.6638\n"
     ]
    },
    {
     "name": "stderr",
     "output_type": "stream",
     "text": [
      "Epoch - train: 100%|██████████| 97/97 [00:01<00:00, 63.37it/s]\n",
      "Epoch - valid: 100%|██████████| 25/25 [00:00<00:00, 219.41it/s]\n"
     ]
    },
    {
     "name": "stdout",
     "output_type": "stream",
     "text": [
      "Epoch 40/50 | Train Loss: 0.3103 | Train PPL: 1.3639 | Train Acc: 0.9444 | Valid Loss: 1.9736 | Valid PPL: 7.1967 | Valid Acc: 0.6617\n"
     ]
    },
    {
     "name": "stderr",
     "output_type": "stream",
     "text": [
      "Epoch - train: 100%|██████████| 97/97 [00:01<00:00, 68.09it/s]\n",
      "Epoch - valid: 100%|██████████| 25/25 [00:00<00:00, 231.25it/s]\n"
     ]
    },
    {
     "name": "stdout",
     "output_type": "stream",
     "text": [
      "Epoch 41/50 | Train Loss: 0.3056 | Train PPL: 1.3575 | Train Acc: 0.9453 | Valid Loss: 1.9699 | Valid PPL: 7.1699 | Valid Acc: 0.6644\n"
     ]
    },
    {
     "name": "stderr",
     "output_type": "stream",
     "text": [
      "Epoch - train: 100%|██████████| 97/97 [00:01<00:00, 66.80it/s]\n",
      "Epoch - valid: 100%|██████████| 25/25 [00:00<00:00, 229.80it/s]\n"
     ]
    },
    {
     "name": "stdout",
     "output_type": "stream",
     "text": [
      "Epoch 42/50 | Train Loss: 0.2972 | Train PPL: 1.3460 | Train Acc: 0.9474 | Valid Loss: 1.9722 | Valid PPL: 7.1862 | Valid Acc: 0.6647\n"
     ]
    },
    {
     "name": "stderr",
     "output_type": "stream",
     "text": [
      "Epoch - train: 100%|██████████| 97/97 [00:01<00:00, 60.81it/s]\n",
      "Epoch - valid: 100%|██████████| 25/25 [00:00<00:00, 215.10it/s]\n"
     ]
    },
    {
     "name": "stdout",
     "output_type": "stream",
     "text": [
      "Epoch 43/50 | Train Loss: 0.2915 | Train PPL: 1.3385 | Train Acc: 0.9487 | Valid Loss: 1.9751 | Valid PPL: 7.2070 | Valid Acc: 0.6621\n"
     ]
    },
    {
     "name": "stderr",
     "output_type": "stream",
     "text": [
      "Epoch - train: 100%|██████████| 97/97 [00:01<00:00, 54.56it/s]\n",
      "Epoch - valid: 100%|██████████| 25/25 [00:00<00:00, 178.56it/s]\n"
     ]
    },
    {
     "name": "stdout",
     "output_type": "stream",
     "text": [
      "Epoch 44/50 | Train Loss: 0.2816 | Train PPL: 1.3252 | Train Acc: 0.9516 | Valid Loss: 1.9629 | Valid PPL: 7.1201 | Valid Acc: 0.6659\n"
     ]
    },
    {
     "name": "stderr",
     "output_type": "stream",
     "text": [
      "Epoch - train: 100%|██████████| 97/97 [00:01<00:00, 58.45it/s]\n",
      "Epoch - valid: 100%|██████████| 25/25 [00:00<00:00, 214.86it/s]\n"
     ]
    },
    {
     "name": "stdout",
     "output_type": "stream",
     "text": [
      "Epoch 45/50 | Train Loss: 0.2782 | Train PPL: 1.3208 | Train Acc: 0.9526 | Valid Loss: 1.9856 | Valid PPL: 7.2832 | Valid Acc: 0.6639\n"
     ]
    },
    {
     "name": "stderr",
     "output_type": "stream",
     "text": [
      "Epoch - train: 100%|██████████| 97/97 [00:01<00:00, 65.06it/s]\n",
      "Epoch - valid: 100%|██████████| 25/25 [00:00<00:00, 205.76it/s]\n"
     ]
    },
    {
     "name": "stdout",
     "output_type": "stream",
     "text": [
      "Epoch 46/50 | Train Loss: 0.2731 | Train PPL: 1.3141 | Train Acc: 0.9544 | Valid Loss: 1.9731 | Valid PPL: 7.1928 | Valid Acc: 0.6670\n"
     ]
    },
    {
     "name": "stderr",
     "output_type": "stream",
     "text": [
      "Epoch - train: 100%|██████████| 97/97 [00:01<00:00, 59.58it/s]\n",
      "Epoch - valid: 100%|██████████| 25/25 [00:00<00:00, 231.24it/s]\n"
     ]
    },
    {
     "name": "stdout",
     "output_type": "stream",
     "text": [
      "Epoch 47/50 | Train Loss: 0.2672 | Train PPL: 1.3063 | Train Acc: 0.9553 | Valid Loss: 1.9777 | Valid PPL: 7.2258 | Valid Acc: 0.6670\n"
     ]
    },
    {
     "name": "stderr",
     "output_type": "stream",
     "text": [
      "Epoch - train: 100%|██████████| 97/97 [00:01<00:00, 66.13it/s]\n",
      "Epoch - valid: 100%|██████████| 25/25 [00:00<00:00, 213.79it/s]\n"
     ]
    },
    {
     "name": "stdout",
     "output_type": "stream",
     "text": [
      "Epoch 48/50 | Train Loss: 0.2642 | Train PPL: 1.3023 | Train Acc: 0.9563 | Valid Loss: 1.9692 | Valid PPL: 7.1649 | Valid Acc: 0.6679\n"
     ]
    },
    {
     "name": "stderr",
     "output_type": "stream",
     "text": [
      "Epoch - train: 100%|██████████| 97/97 [00:01<00:00, 68.65it/s]\n",
      "Epoch - valid: 100%|██████████| 25/25 [00:00<00:00, 230.33it/s]\n"
     ]
    },
    {
     "name": "stdout",
     "output_type": "stream",
     "text": [
      "Epoch 49/50 | Train Loss: 0.2569 | Train PPL: 1.2929 | Train Acc: 0.9579 | Valid Loss: 1.9721 | Valid PPL: 7.1858 | Valid Acc: 0.6657\n"
     ]
    },
    {
     "name": "stderr",
     "output_type": "stream",
     "text": [
      "Epoch - train: 100%|██████████| 97/97 [00:01<00:00, 77.08it/s]\n",
      "Epoch - valid: 100%|██████████| 25/25 [00:00<00:00, 227.53it/s]\n"
     ]
    },
    {
     "name": "stdout",
     "output_type": "stream",
     "text": [
      "Epoch 50/50 | Train Loss: 0.2552 | Train PPL: 1.2907 | Train Acc: 0.9585 | Valid Loss: 1.9747 | Valid PPL: 7.2044 | Valid Acc: 0.6675\n",
      "Model saved to ./model_N2_H2_PEFalse_DM128.pt\n",
      "Loss & PPL curves saved to loss_ppl_curves_N2_H2_PEFalse_DM128.png\n"
     ]
    },
    {
     "data": {
      "image/png": "[encoded data removed]",
      "text/plain": [
       "<Figure size 1200x600 with 2 Axes>"
      ]
     },
     "metadata": {},
     "output_type": "display_data"
    },
    {
     "name": "stdout",
     "output_type": "stream",
     "text": [
      "\n",
      "--- 测试结果 N2_H2_PEFalse_DM128 ---\n",
      "原始英文: how are you today\n",
      "中文翻译: 你今天要多少钱？\n",
      "\n",
      "原始英文: i really love this movie\n",
      "中文翻译: 我真的看来。\n",
      "\n",
      "原始英文: can you help me with my homework\n",
      "中文翻译: 你能帮我的功课吗？\n",
      "\n",
      "原始英文: the weather is nice outside\n",
      "中文翻译: 天气很好。\n",
      "\n",
      "原始英文: this computer runs very fast\n",
      "中文翻译: 这部快就发。\n",
      "\n",
      "原始英文: please close the window\n",
      "中文翻译: 请让窗户。\n",
      "\n",
      "原始英文: he doesn’t like spicy food\n",
      "中文翻译: 他习惯辛辣的食物。\n",
      "\n",
      "原始英文: they are playing football now\n",
      "中文翻译: 他们现在正在踢足球。\n",
      "\n"
     ]
    }
   ],
   "source": [
    "import os\n",
    "import torch\n",
    "import torch.nn as nn\n",
    "from torch.utils.data import Dataset, DataLoader\n",
    "from torch.optim.lr_scheduler import LambdaLR\n",
    "from sklearn.model_selection import train_test_split\n",
    "from tqdm import tqdm\n",
    "import copy\n",
    "import math\n",
    "import time\n",
    "import matplotlib.pyplot as plt\n",
    "\n",
    "# ==============================================================================\n",
    "# 1. TOKENIZER\n",
    "# ==============================================================================\n",
    "class Tokenizer:\n",
    "    \"\"\"\n",
    "    A simplified tokenizer for demonstration purposes.\n",
    "    \"\"\"\n",
    "    def __init__(self, file):\n",
    "        self.input_word2idx = {\"<PAD>\": 0, \"<SOS>\": 1, \"<EOS>\": 2}\n",
    "        self.input_idx2word = {v: k for k, v in self.input_word2idx.items()}\n",
    "        self.output_word2idx = {\"<PAD>\": 0, \"<SOS>\": 1, \"<EOS>\": 2}\n",
    "        self.output_idx2word = {v: k for k, v in self.output_word2idx.items()}\n",
    "        self.input_dict_len = 0\n",
    "        self.output_dict_len = 0\n",
    "        self.output_max_len = 1  # Will be updated\n",
    "        self._build_vocab(file)\n",
    "\n",
    "    def _build_vocab(self, file):\n",
    "        with open(file, 'r', encoding='utf-8') as f:\n",
    "            for line in f:\n",
    "                if line.strip():\n",
    "                    try:\n",
    "                        inp, outp = line.strip().split(\"\\t\")\n",
    "                    except ValueError:\n",
    "                        continue\n",
    "                    inp_tokens = self.split_input(inp)\n",
    "                    outp_tokens = self.split_output(outp)\n",
    "                    self.output_max_len = max(self.output_max_len, len(outp_tokens) + 2) # +2 for SOS/EOS\n",
    "                    for token in inp_tokens:\n",
    "                        if token not in self.input_word2idx:\n",
    "                            self.input_word2idx[token] = len(self.input_word2idx)\n",
    "                    for token in outp_tokens:\n",
    "                        if token not in self.output_word2idx:\n",
    "                            self.output_word2idx[token] = len(self.output_word2idx)\n",
    "\n",
    "        self.input_idx2word = {v: k for k, v in self.input_word2idx.items()}\n",
    "        self.output_idx2word = {v: k for k, v in self.output_word2idx.items()}\n",
    "        self.input_dict_len = len(self.input_word2idx)\n",
    "        self.output_dict_len = len(self.output_word2idx)\n",
    "\n",
    "    def split_input(self, sentence):\n",
    "        return sentence.lower().split()\n",
    "\n",
    "    def split_output(self, sentence):\n",
    "        # For Chinese characters or per-character tokenization\n",
    "        return list(sentence.replace(\" \", \"\"))\n",
    "\n",
    "    def encode(self, sentence, word2idx, max_len):\n",
    "        # sentence is expected to be a list of tokens\n",
    "        tokens = [word2idx[\"<SOS>\"]] + [word2idx.get(word, 0) for word in sentence] + [word2idx[\"<EOS>\"]]\n",
    "        if len(tokens) > max_len:\n",
    "            tokens = tokens[:max_len-1] + [word2idx[\"<EOS>\"]]\n",
    "        padded = tokens + [word2idx[\"<PAD>\"]] * (max_len - len(tokens))\n",
    "        return padded\n",
    "\n",
    "    def encode_input(self, sentence, max_len):\n",
    "        return self.encode(sentence, self.input_word2idx, max_len)\n",
    "\n",
    "    def encode_output(self, sentence, max_len):\n",
    "        return self.encode(sentence, self.output_word2idx, max_len)\n",
    "\n",
    "    def make_std_mask(self, tgt, pad):\n",
    "        \"Create a mask to hide padding and future words.\"\n",
    "        tgt_mask = (tgt != pad).unsqueeze(-2)\n",
    "        tgt_mask = tgt_mask & subsequent_mask(tgt.size(-1)).type_as(tgt_mask.data)\n",
    "        return tgt_mask\n",
    "\n",
    "def get_tokenizer(file):\n",
    "    return Tokenizer(file=file)\n",
    "\n",
    "# ==============================================================================\n",
    "# 2. DATALOADER\n",
    "# ==============================================================================\n",
    "class Seq2SeqDataset(Dataset):\n",
    "    \"\"\"\n",
    "    Custom Dataset\n",
    "    \"\"\"\n",
    "    def __init__(self, tokenizer, file=\"./data.txt\", part=\"train\"):\n",
    "        self.tokenizer = tokenizer\n",
    "        self.file = file\n",
    "        self.part = part\n",
    "        self.data = self._load_data()\n",
    "\n",
    "    def _load_data(self):\n",
    "        cache_file = f\"./{self.part}.bin\"\n",
    "        if os.path.exists(cache_file):\n",
    "            print(f\"Loading cached dataset from {cache_file}\")\n",
    "            return torch.load(cache_file)\n",
    "\n",
    "        data = []\n",
    "        with open(file=self.file, mode=\"r\", encoding=\"utf-8\") as f:\n",
    "            for line in tqdm(f.readlines(), desc=f\"Reading data from {self.file}\"):\n",
    "                if line.strip():\n",
    "                    try:\n",
    "                        input_sentence, output_sentence = line.strip().split(\"\\t\")\n",
    "                    except ValueError:\n",
    "                        continue\n",
    "                    input_sentence = self.tokenizer.split_input(input_sentence)\n",
    "                    output_sentence = self.tokenizer.split_output(output_sentence)\n",
    "                    data.append([input_sentence, output_sentence])\n",
    "\n",
    "        if len(data) == 0:\n",
    "            raise RuntimeError(\"No data loaded. Check your data file format.\")\n",
    "\n",
    "        train_data, test_data = train_test_split(data, test_size=0.2, random_state=42)\n",
    "\n",
    "        # Save both splits to avoid re-reading the raw file\n",
    "        torch.save(train_data, \"./train.bin\")\n",
    "        torch.save(test_data, \"./valid.bin\")\n",
    "\n",
    "        return train_data if self.part == \"train\" else test_data\n",
    "\n",
    "    def __getitem__(self, idx):\n",
    "        input_sentence, output_sentence = self.data[idx]\n",
    "        return (\n",
    "            input_sentence,\n",
    "            len(input_sentence),\n",
    "            output_sentence,\n",
    "            len(output_sentence),\n",
    "        )\n",
    "\n",
    "    def __len__(self):\n",
    "        return len(self.data)\n",
    "\n",
    "\n",
    "def collate_fn(batch, tokenizer):\n",
    "    # Unzip the batch\n",
    "    input_sentences, input_sentence_lens, output_sentences, output_sentence_lens = zip(*batch)\n",
    "\n",
    "    # Pad to the max length in the batch (plus 2 for SOS/EOS tokens)\n",
    "    max_input_len = max(input_sentence_lens) + 2\n",
    "    input_idxes = [tokenizer.encode_input(s, max_input_len) for s in input_sentences]\n",
    "    \n",
    "    max_output_len = max(output_sentence_lens) + 2\n",
    "    output_idxes = [tokenizer.encode_output(s, max_output_len) for s in output_sentences]\n",
    "\n",
    "    # Convert to tensors\n",
    "    src = torch.LongTensor(input_idxes)\n",
    "    tgt = torch.LongTensor(output_idxes)\n",
    "    \n",
    "    # Create masks and target variables\n",
    "    src_mask = (src != tokenizer.input_word2idx[\"<PAD>\"]).unsqueeze(-2)\n",
    "    tgt_in = tgt[:, :-1]\n",
    "    tgt_y = tgt[:, 1:]\n",
    "    tgt_mask = tokenizer.make_std_mask(tgt_in, tokenizer.output_word2idx[\"<PAD>\"])\n",
    "    \n",
    "    # Calculate the number of non-padding tokens for loss calculation\n",
    "    ntokens = (tgt_y != tokenizer.output_word2idx[\"<PAD>\"]).data.sum()\n",
    "    \n",
    "    return src, src_mask, tgt_in, tgt_mask, tgt_y, ntokens\n",
    "\n",
    "\n",
    "def get_dataloader(tokenizer, file, part=\"train\", batch_size=32):\n",
    "    dataset = Seq2SeqDataset(tokenizer=tokenizer, file=file, part=part)\n",
    "    dataloader = DataLoader(\n",
    "        dataset=dataset,\n",
    "        batch_size=batch_size,\n",
    "        shuffle=(part == \"train\"),\n",
    "        collate_fn=lambda batch: collate_fn(batch, tokenizer),\n",
    "    )\n",
    "    return dataloader\n",
    "\n",
    "# ==============================================================================\n",
    "# 3. MODEL (Transformer Architecture)\n",
    "# ==============================================================================\n",
    "class EncoderDecoder(nn.Module):\n",
    "    def __init__(self, encoder, decoder, src_embed, tgt_embed, generator):\n",
    "        super(EncoderDecoder, self).__init__()\n",
    "        self.encoder = encoder\n",
    "        self.decoder = decoder\n",
    "        self.src_embed = src_embed\n",
    "        self.tgt_embed = tgt_embed\n",
    "        self.generator = generator\n",
    "\n",
    "    def forward(self, src, tgt, src_mask, tgt_mask):\n",
    "        return self.decode(self.encode(src, src_mask), src_mask, tgt, tgt_mask)\n",
    "\n",
    "    def encode(self, src, src_mask):\n",
    "        return self.encoder(self.src_embed(src), src_mask)\n",
    "\n",
    "    def decode(self, memory, src_mask, tgt, tgt_mask):\n",
    "        return self.decoder(self.tgt_embed(tgt), memory, src_mask, tgt_mask)\n",
    "\n",
    "class Generator(nn.Module):\n",
    "    def __init__(self, d_model, vocab):\n",
    "        super(Generator, self).__init__()\n",
    "        self.proj = nn.Linear(d_model, vocab)\n",
    "\n",
    "    def forward(self, x):\n",
    "        return torch.nn.functional.log_softmax(self.proj(x), dim=-1)\n",
    "\n",
    "def clones(module, N):\n",
    "    return nn.ModuleList([copy.deepcopy(module) for _ in range(N)])\n",
    "\n",
    "class Encoder(nn.Module):\n",
    "    def __init__(self, layer, N):\n",
    "        super(Encoder, self).__init__()\n",
    "        self.layers = clones(layer, N)\n",
    "        self.norm = nn.LayerNorm(layer.size)\n",
    "\n",
    "    def forward(self, x, mask):\n",
    "        for layer in self.layers:\n",
    "            x = layer(x, mask)\n",
    "        return self.norm(x)\n",
    "\n",
    "class EncoderLayer(nn.Module):\n",
    "    def __init__(self, size, self_attn, feed_forward, dropout):\n",
    "        super(EncoderLayer, self).__init__()\n",
    "        self.self_attn = self_attn\n",
    "        self.feed_forward = feed_forward\n",
    "        self.sublayer = clones(SublayerConnection(size, dropout), 2)\n",
    "        self.size = size\n",
    "\n",
    "    def forward(self, x, mask):\n",
    "        x = self.sublayer[0](x, lambda x: self.self_attn(x, x, x, mask))\n",
    "        return self.sublayer[1](x, self.feed_forward)\n",
    "\n",
    "class SublayerConnection(nn.Module):\n",
    "    def __init__(self, size, dropout):\n",
    "        super(SublayerConnection, self).__init__()\n",
    "        self.norm = nn.LayerNorm(size)\n",
    "        self.dropout = nn.Dropout(dropout)\n",
    "\n",
    "    def forward(self, x, sublayer):\n",
    "        return x + self.dropout(sublayer(self.norm(x)))\n",
    "\n",
    "class Decoder(nn.Module):\n",
    "    def __init__(self, layer, N):\n",
    "        super(Decoder, self).__init__()\n",
    "        self.layers = clones(layer, N)\n",
    "        self.norm = nn.LayerNorm(layer.size)\n",
    "\n",
    "    def forward(self, x, memory, src_mask, tgt_mask):\n",
    "        for layer in self.layers:\n",
    "            x = layer(x, memory, src_mask, tgt_mask)\n",
    "        return self.norm(x)\n",
    "\n",
    "class DecoderLayer(nn.Module):\n",
    "    def __init__(self, size, self_attn, src_attn, feed_forward, dropout):\n",
    "        super(DecoderLayer, self).__init__()\n",
    "        self.size = size\n",
    "        self.self_attn = self_attn\n",
    "        self.src_attn = src_attn\n",
    "        self.feed_forward = feed_forward\n",
    "        self.sublayer = clones(SublayerConnection(size, dropout), 3)\n",
    "\n",
    "    def forward(self, x, memory, src_mask, tgt_mask):\n",
    "        m = memory\n",
    "        x = self.sublayer[0](x, lambda x: self.self_attn(x, x, x, tgt_mask))\n",
    "        x = self.sublayer[1](x, lambda x: self.src_attn(x, m, m, src_mask))\n",
    "        return self.sublayer[2](x, self.feed_forward)\n",
    "\n",
    "def attention(query, key, value, mask=None, dropout=None):\n",
    "    d_k = query.size(-1)\n",
    "    scores = torch.matmul(query, key.transpose(-2, -1)) / math.sqrt(d_k)\n",
    "    if mask is not None:\n",
    "        scores = scores.masked_fill(mask == 0, -1e9)\n",
    "    p_attn = scores.softmax(dim=-1)\n",
    "    if dropout is not None:\n",
    "        p_attn = dropout(p_attn)\n",
    "    return torch.matmul(p_attn, value), p_attn\n",
    "\n",
    "class MultiHeadedAttention(nn.Module):\n",
    "    def __init__(self, h, d_model, dropout=0.1):\n",
    "        super(MultiHeadedAttention, self).__init__()\n",
    "        assert d_model % h == 0\n",
    "        self.d_k = d_model // h\n",
    "        self.h = h\n",
    "        self.linears = clones(nn.Linear(d_model, d_model), 4)\n",
    "        self.attn = None\n",
    "        self.dropout = nn.Dropout(p=dropout)\n",
    "\n",
    "    def forward(self, query, key, value, mask=None):\n",
    "        if mask is not None:\n",
    "            mask = mask.unsqueeze(1)\n",
    "        nbatches = query.size(0)\n",
    "        query, key, value = [l(x).view(nbatches, -1, self.h, self.d_k).transpose(1, 2) for l, x in zip(self.linears, (query, key, value))]\n",
    "        x, self.attn = attention(query, key, value, mask=mask, dropout=self.dropout)\n",
    "        x = x.transpose(1, 2).contiguous().view(nbatches, -1, self.h * self.d_k)\n",
    "        return self.linears[-1](x)\n",
    "\n",
    "class PositionwiseFeedForward(nn.Module):\n",
    "    def __init__(self, d_model, d_ff, dropout=0.1):\n",
    "        super(PositionwiseFeedForward, self).__init__()\n",
    "        self.w_1 = nn.Linear(d_model, d_ff)\n",
    "        self.w_2 = nn.Linear(d_ff, d_model)\n",
    "        self.dropout = nn.Dropout(dropout)\n",
    "\n",
    "    def forward(self, x):\n",
    "        return self.w_2(self.dropout(self.w_1(x).relu()))\n",
    "\n",
    "class Embeddings(nn.Module):\n",
    "    def __init__(self, d_model, vocab):\n",
    "        super(Embeddings, self).__init__()\n",
    "        self.lut = nn.Embedding(vocab, d_model)\n",
    "        self.d_model = d_model\n",
    "\n",
    "    def forward(self, x):\n",
    "        return self.lut(x) * math.sqrt(self.d_model)\n",
    "\n",
    "class PositionalEncoding(nn.Module):\n",
    "    def __init__(self, d_model, dropout, max_len=5000):\n",
    "        super(PositionalEncoding, self).__init__()\n",
    "        self.dropout = nn.Dropout(p=dropout)\n",
    "        pe = torch.zeros(max_len, d_model)\n",
    "        position = torch.arange(0, max_len).unsqueeze(1)\n",
    "        div_term = torch.exp(torch.arange(0, d_model, 2) * -(math.log(10000.0) / d_model))\n",
    "        pe[:, 0::2] = torch.sin(position * div_term)\n",
    "        pe[:, 1::2] = torch.cos(position * div_term)\n",
    "        pe = pe.unsqueeze(0)\n",
    "        self.register_buffer(\"pe\", pe)\n",
    "\n",
    "    def forward(self, x):\n",
    "        x = x + self.pe[:, :x.size(1)].requires_grad_(False)\n",
    "        return self.dropout(x)\n",
    "\n",
    "def get_model(src_vocab, tgt_vocab, N=6, d_model=512, d_ff=2048, h=8, dropout=0.1, use_pe=True):\n",
    "    c = copy.deepcopy\n",
    "    attn = MultiHeadedAttention(h, d_model, dropout)\n",
    "    ff = PositionwiseFeedForward(d_model, d_ff, dropout)\n",
    "    position = PositionalEncoding(d_model, dropout)\n",
    "    \n",
    "    src_embed = nn.Sequential(Embeddings(d_model, src_vocab), c(position)) if use_pe else Embeddings(d_model, src_vocab)\n",
    "    tgt_embed = nn.Sequential(Embeddings(d_model, tgt_vocab), c(position)) if use_pe else Embeddings(d_model, tgt_vocab)\n",
    "\n",
    "    model = EncoderDecoder(\n",
    "        Encoder(EncoderLayer(d_model, c(attn), c(ff), dropout), N),\n",
    "        Decoder(DecoderLayer(d_model, c(attn), c(attn), c(ff), dropout), N),\n",
    "        src_embed,\n",
    "        tgt_embed,\n",
    "        Generator(d_model, tgt_vocab),\n",
    "    )\n",
    "\n",
    "    for p in model.parameters():\n",
    "        if p.dim() > 1:\n",
    "            nn.init.xavier_uniform_(p)\n",
    "    return model\n",
    "\n",
    "# ==============================================================================\n",
    "# 4. UTILS (Training, Loss, Inference)\n",
    "# ==============================================================================\n",
    "class TrainState:\n",
    "    step: int = 0\n",
    "    accum_step: int = 0\n",
    "    samples: int = 0\n",
    "    tokens: int = 0\n",
    "\n",
    "def run_epoch(data_iter, model, loss_compute, optimizer, scheduler, mode, device, tokenizer=None):\n",
    "    \"\"\"\n",
    "    Returns: avg_loss_per_token, perplexity, accuracy\n",
    "    \"\"\"\n",
    "    total_loss = 0.0\n",
    "    total_tokens = 0\n",
    "    total_correct = 0\n",
    "\n",
    "    pad_idx = None\n",
    "    if tokenizer is not None:\n",
    "        pad_idx = tokenizer.output_word2idx[\"<PAD>\"]\n",
    "\n",
    "    if mode == \"train\":\n",
    "        model.train()\n",
    "    else:\n",
    "        model.eval()\n",
    "\n",
    "    for batch in tqdm(data_iter, desc=f\"Epoch - {mode}\"):\n",
    "        src, src_mask, tgt, tgt_mask, tgt_y, ntokens = [x.to(device) if torch.is_tensor(x) else x for x in batch]\n",
    "        \n",
    "        out = model.forward(src, tgt, src_mask, tgt_mask)  # out: (batch, seq_len, d_model)\n",
    "        # Compute loss using loss_compute (which applies generator inside)\n",
    "        loss = loss_compute(out, tgt_y, ntokens)\n",
    "\n",
    "        # Calculate predictions & accuracy\n",
    "        with torch.no_grad():\n",
    "            log_probs = loss_compute.generator(out)  # (batch, seq_len, vocab) in log space\n",
    "            preds = torch.argmax(log_probs, dim=-1)  # (batch, seq_len)\n",
    "            if pad_idx is not None:\n",
    "                mask = (tgt_y != pad_idx)\n",
    "                correct = ((preds == tgt_y) & mask).sum()\n",
    "                n_tokens_in_batch = mask.sum()\n",
    "            else:\n",
    "                correct = (preds == tgt_y).sum()\n",
    "                n_tokens_in_batch = torch.tensor(ntokens, device=device)\n",
    "\n",
    "        if mode == \"train\":\n",
    "            loss.backward()\n",
    "            optimizer.step()\n",
    "            optimizer.zero_grad()\n",
    "            if scheduler is not None:\n",
    "                scheduler.step()\n",
    "\n",
    "        # loss returned by loss_compute is already normalized by norm inside (see SimpleLossCompute)\n",
    "        # but earlier code multiplied back by ntokens; to be consistent, we'll accumulate as original:\n",
    "        total_loss += loss.item() * ntokens.item()\n",
    "        total_tokens += ntokens.item()\n",
    "        total_correct += correct.item()\n",
    "\n",
    "    avg_loss = total_loss / total_tokens if total_tokens > 0 else 0.0\n",
    "    try:\n",
    "        ppl = math.exp(avg_loss) if avg_loss < 100 else float(\"inf\")\n",
    "    except OverflowError:\n",
    "        ppl = float(\"inf\")\n",
    "    accuracy = total_correct / total_tokens if total_tokens > 0 else 0.0\n",
    "\n",
    "    return avg_loss, ppl, accuracy\n",
    "\n",
    "class SimpleLossCompute:\n",
    "    def __init__(self, generator, criterion):\n",
    "        self.generator = generator\n",
    "        self.criterion = criterion\n",
    "\n",
    "    def __call__(self, x, y, norm):\n",
    "        x = self.generator(x)\n",
    "        sloss = self.criterion(x.contiguous().view(-1, x.size(-1)), y.contiguous().view(-1)) / norm\n",
    "        return sloss\n",
    "\n",
    "class LabelSmoothing(nn.Module):\n",
    "    def __init__(self, size, padding_idx, smoothing=0.0):\n",
    "        super(LabelSmoothing, self).__init__()\n",
    "        self.criterion = nn.KLDivLoss(reduction=\"sum\")\n",
    "        self.padding_idx = padding_idx\n",
    "        self.confidence = 1.0 - smoothing\n",
    "        self.smoothing = smoothing\n",
    "        self.size = size\n",
    "\n",
    "    def forward(self, x, target):\n",
    "        assert x.size(1) == self.size\n",
    "        true_dist = x.data.clone()\n",
    "        true_dist.fill_(self.smoothing / (self.size - 2))\n",
    "        true_dist.scatter_(1, target.data.unsqueeze(1), self.confidence)\n",
    "        true_dist[:, self.padding_idx] = 0\n",
    "        mask = (target.data == self.padding_idx)\n",
    "        if mask.dim() > 0:\n",
    "            true_dist.masked_fill_(mask.unsqueeze(1), 0.0)\n",
    "        return self.criterion(x, true_dist.clone().detach())\n",
    "\n",
    "def rate(step, model_size, factor, warmup):\n",
    "    if step == 0: step = 1\n",
    "    return factor * (model_size ** (-0.5) * min(step ** (-0.5), step * warmup ** (-1.5)))\n",
    "\n",
    "def subsequent_mask(size):\n",
    "    attn_shape = (1, size, size)\n",
    "    mask = torch.triu(torch.ones(attn_shape), diagonal=1).type(torch.uint8)\n",
    "    return mask == 0\n",
    "\n",
    "def greedy_decode(model, src, src_mask, max_len, start_symbol, device):\n",
    "    memory = model.encode(src, src_mask)\n",
    "    ys = torch.ones(1, 1).fill_(start_symbol).type_as(src.data).to(device)\n",
    "    for i in range(max_len - 1):\n",
    "        tgt_mask = subsequent_mask(ys.size(1)).type_as(src.data).to(device)\n",
    "        out = model.decode(memory, src_mask, ys, tgt_mask)\n",
    "        prob = model.generator(out[:, -1])\n",
    "        _, next_word = torch.max(prob, dim=1)\n",
    "        next_word = next_word.data[0]\n",
    "        ys = torch.cat([ys, torch.ones(1, 1).type_as(src.data).fill_(next_word)], dim=1)\n",
    "    return ys\n",
    "\n",
    "def get_real_output(y_pred, tokenizer):\n",
    "    raw_results, final_results = [], []\n",
    "    for sent_indices in y_pred.cpu().tolist():\n",
    "        raw_sent = [tokenizer.output_idx2word.get(idx, \"<UNK>\") for idx in sent_indices]\n",
    "        final_sent = []\n",
    "        for idx in sent_indices:\n",
    "            word = tokenizer.output_idx2word.get(idx, \"<UNK>\")\n",
    "            if word == \"<EOS>\": break\n",
    "            if word not in [\"<SOS>\", \"<PAD>\", \"<UNK>\"]: final_sent.append(word)\n",
    "        raw_results.append(\" \".join(raw_sent))\n",
    "        final_results.append(\"\".join(final_sent))\n",
    "    return raw_results, final_results\n",
    "\n",
    "# ==============================================================================\n",
    "# 5. MAIN TRANSLATION CLASS\n",
    "# ==============================================================================\n",
    "class Translation:\n",
    "    def __init__(self, file=\"./data.txt\", config=None):\n",
    "        self.file = file\n",
    "        self.config = config if config else {}\n",
    "        self.device = \"cuda:0\" if torch.cuda.is_available() else \"cpu\"\n",
    "        print(f\"Using device: {self.device}\")\n",
    "\n",
    "        self.tokenizer = get_tokenizer(file=self.file)\n",
    "\n",
    "        # Model configuration\n",
    "        n_layers = self.config.get('N', 2)\n",
    "        n_heads = self.config.get('h', 8)\n",
    "        d_model = self.config.get('d_model', 256) # Smaller model for faster demo\n",
    "        d_ff = self.config.get('d_ff', 1024)\n",
    "        use_pe = self.config.get('use_pe', True)\n",
    "        self.model_name = f\"N{n_layers}_H{n_heads}_PE{use_pe}_DM{d_model}\"\n",
    "        self.model_path = f\"./model_{self.model_name}.pt\"\n",
    "\n",
    "        self.model = self._get_model(n_layers, d_model, d_ff, n_heads, use_pe)\n",
    "\n",
    "        # Training hyper-parameters (can be set through config)\n",
    "        self.epochs = self.config.get('epochs', 10)\n",
    "        self.batch_size = self.config.get('batch_size', 64)\n",
    "        self.lr = self.config.get('lr', 1.0)  # note: we use scheduler to actually scale\n",
    "        self.optimizer_name = self.config.get('optimizer', 'adam')\n",
    "        self.betas = self.config.get('betas', (0.9, 0.98))\n",
    "        self.eps = self.config.get('eps', 1e-9)\n",
    "        self.warmup_steps = self.config.get('warmup_steps', 400)\n",
    "\n",
    "        # Optimizer & scheduler\n",
    "        # We keep the original pattern: LR is controlled via custom lambda (rate)\n",
    "        self.optimizer = torch.optim.Adam(self.model.parameters(), lr=self.lr, betas=self.betas, eps=self.eps)\n",
    "        self.lr_scheduler = LambdaLR(\n",
    "            optimizer=self.optimizer,\n",
    "            lr_lambda=lambda step: rate(step, d_model, 1.0, self.warmup_steps),\n",
    "        )\n",
    "\n",
    "        self.criterion = LabelSmoothing(size=self.tokenizer.output_dict_len, padding_idx=self.tokenizer.output_word2idx[\"<PAD>\"], smoothing=0.1)\n",
    "        self.loss_compute = SimpleLossCompute(self.model.generator, self.criterion)\n",
    "        \n",
    "        self.train_losses = []\n",
    "        self.valid_losses = []\n",
    "        self.train_ppls = []\n",
    "        self.valid_ppls = []\n",
    "        self.train_accs = []\n",
    "        self.valid_accs = []\n",
    "\n",
    "    def _get_model(self, N, d_model, d_ff, h, use_pe):\n",
    "        model = get_model(\n",
    "            src_vocab=self.tokenizer.input_dict_len,\n",
    "            tgt_vocab=self.tokenizer.output_dict_len,\n",
    "            N=N, d_model=d_model, d_ff=d_ff, h=h, use_pe=use_pe\n",
    "        )\n",
    "        if os.path.exists(self.model_path):\n",
    "            model.load_state_dict(torch.load(self.model_path, map_location=self.device))\n",
    "            print(f\"Loaded pre-trained model from {self.model_path}\")\n",
    "        model.to(self.device)\n",
    "        return model\n",
    "\n",
    "    def train(self):\n",
    "        print(f\"\\n--- Training Model: {self.model_name} ---\")\n",
    "        train_dataloader = get_dataloader(self.tokenizer, self.file, \"train\", batch_size=self.batch_size)\n",
    "        valid_dataloader = get_dataloader(self.tokenizer, self.file, \"valid\", batch_size=self.batch_size)\n",
    "\n",
    "        for epoch in range(self.epochs):\n",
    "            # Training epoch\n",
    "            train_loss, train_ppl, train_acc = run_epoch(train_dataloader, self.model, self.loss_compute, self.optimizer, self.lr_scheduler, \"train\", self.device, tokenizer=self.tokenizer)\n",
    "            self.train_losses.append(train_loss)\n",
    "            self.train_ppls.append(train_ppl)\n",
    "            self.train_accs.append(train_acc)\n",
    "\n",
    "            # Validation epoch\n",
    "            with torch.no_grad():\n",
    "                valid_loss, valid_ppl, valid_acc = run_epoch(valid_dataloader, self.model, self.loss_compute, None, None, \"valid\", self.device, tokenizer=self.tokenizer)\n",
    "            self.valid_losses.append(valid_loss)\n",
    "            self.valid_ppls.append(valid_ppl)\n",
    "            self.valid_accs.append(valid_acc)\n",
    "            \n",
    "            print(f\"Epoch {epoch+1}/{self.epochs} | Train Loss: {train_loss:.4f} | Train PPL: {train_ppl:.4f} | Train Acc: {train_acc:.4f} | Valid Loss: {valid_loss:.4f} | Valid PPL: {valid_ppl:.4f} | Valid Acc: {valid_acc:.4f}\")\n",
    "            \n",
    "        torch.save(self.model.state_dict(), self.model_path)\n",
    "        print(f\"Model saved to {self.model_path}\")\n",
    "\n",
    "    def infer(self, sentence):\n",
    "        self.model.eval()\n",
    "        with torch.no_grad():\n",
    "            tokenized = self.tokenizer.split_input(sentence)\n",
    "            # Add 2 for SOS and EOS for padding length\n",
    "            encoded = self.tokenizer.encode_input(tokenized, len(tokenized) + 2)\n",
    "            src = torch.LongTensor([encoded]).to(self.device)\n",
    "            src_mask = (src != self.tokenizer.input_word2idx[\"<PAD>\"]).unsqueeze(-2).to(self.device)\n",
    "\n",
    "            y_pred = greedy_decode(self.model, src, src_mask, self.tokenizer.output_max_len, 1, self.device)\n",
    "            # Remove the <SOS> token from the beginning of the prediction\n",
    "            y_pred = y_pred[:, 1:]\n",
    "            _, final_results = get_real_output(y_pred, self.tokenizer)\n",
    "        return final_results[0]\n",
    "\n",
    "    def plot_curves(self):\n",
    "        plt.figure(figsize=(12, 6))\n",
    "        plt.subplot(1, 2, 1)\n",
    "        plt.plot(self.train_losses, label=\"Training Loss\")\n",
    "        plt.plot(self.valid_losses, label=\"Validation Loss\")\n",
    "        plt.xlabel(\"Epochs\")\n",
    "        plt.ylabel(\"Loss\")\n",
    "        plt.title(f\"Loss for {self.model_name}\")\n",
    "        plt.legend()\n",
    "        plt.grid(True)\n",
    "\n",
    "        plt.subplot(1, 2, 2)\n",
    "        plt.plot(self.train_ppls, label=\"Training PPL\")\n",
    "        plt.plot(self.valid_ppls, label=\"Validation PPL\")\n",
    "        plt.xlabel(\"Epochs\")\n",
    "        plt.ylabel(\"Perplexity\")\n",
    "        plt.title(f\"Perplexity for {self.model_name}\")\n",
    "        plt.legend()\n",
    "        plt.grid(True)\n",
    "\n",
    "        plt.tight_layout()\n",
    "        plt.savefig(f\"loss_ppl_curves_{self.model_name}.png\")\n",
    "        print(f\"Loss & PPL curves saved to loss_ppl_curves_{self.model_name}.png\")\n",
    "        plt.show()\n",
    "\n",
    "    def show_qualitative_results(self, sentences):\n",
    "        print(f\"\\n--- 测试结果 {self.model_name} ---\")\n",
    "        for sentence in sentences:\n",
    "            translation = self.infer(sentence)\n",
    "            print(f\"原始英文: {sentence}\")\n",
    "            print(f\"中文翻译: {translation}\\n\")\n",
    "\n",
    "# ==============================================================================\n",
    "# 6. MAIN EXECUTION BLOCK\n",
    "# ==============================================================================\n",
    "def run_experiment(config, sentences_to_test):\n",
    "    print(f\"\\n{'='*30}\\n此次实验的配置: {config}\\n{'='*30}\")\n",
    "    model_name = f\"N{config.get('N', 2)}_H{config.get('h', 8)}_PE{config.get('use_pe', True)}_DM{config.get('d_model',128)}\"\n",
    "    model_path = f\"./model_{model_name}.pt\"\n",
    "    if os.path.exists(model_path): os.remove(model_path) # Ensure training from scratch\n",
    "\n",
    "    translation_exp = Translation(config=config)\n",
    "    translation_exp.train()\n",
    "    translation_exp.plot_curves()\n",
    "    translation_exp.show_qualitative_results(sentences_to_test)\n",
    "\n",
    "if __name__ == '__main__':\n",
    "    # Create a dummy data file for the demonstration\n",
    "    if not os.path.exists(\"./data.txt\"):\n",
    "        with open(\"./data.txt\", \"w\", encoding=\"utf-8\") as f:\n",
    "            f.write(\"i love you\\t我爱你\\n\")\n",
    "            f.write(\"i hate you\\t我恨你\\n\")\n",
    "            f.write(\"am i wrong\\t我错了吗\\n\")\n",
    "            f.write(\"this is a book\\t这是一本书\\n\")\n",
    "            f.write(\"how are you\\t你好吗\\n\")\n",
    "            f.write(\"thank you\\t谢谢你\\n\")\n",
    "            f.write(\"what is your name\\t你叫什么名字\\n\")\n",
    "            f.write(\"see you later\\t再见\\n\")\n",
    "            f.write(\"good morning\\t早上好\\n\")\n",
    "            f.write(\"i am a student\\t我是一个学生\\n\")\n",
    "\n",
    "    sentences_to_test = [\n",
    "        \"how are you today\",\n",
    "        \"i really love this movie\",\n",
    "        \"can you help me with my homework\",\n",
    "        \"the weather is nice outside\",\n",
    "        \"this computer runs very fast\",\n",
    "        \"please close the window\",\n",
    "        \"he doesn’t like spicy food\",\n",
    "        \"they are playing football now\"\n",
    "    ]\n",
    "\n",
    "    # --- Experiment 1: Baseline Model ---\n",
    "    baseline_config = {\n",
    "        'N': 2, 'h': 2, 'use_pe': True, 'd_model': 128, 'd_ff': 512,\n",
    "        'epochs': 50, 'batch_size': 128, 'lr': 1, 'warmup_steps': 2000\n",
    "    }\n",
    "    run_experiment(baseline_config, sentences_to_test)\n",
    "\n",
    "    # --- Experiment 2: Comparison (More heads) ---\n",
    "    more_heads_config = {\n",
    "        'N': 2, 'h': 4, 'use_pe': True, 'd_model': 128, 'd_ff': 512,\n",
    "        'epochs': 50, 'batch_size': 128, 'lr': 1.0, 'warmup_steps': 2000\n",
    "    }\n",
    "    run_experiment(more_heads_config, sentences_to_test)\n",
    "\n",
    "    # --- Experiment 3: Ablation Study (No Positional Encoding) ---\n",
    "    no_pe_config = {\n",
    "        'N': 2, 'h': 2, 'use_pe': False, 'd_model': 128, 'd_ff': 512,\n",
    "        'epochs': 50, 'batch_size': 128, 'lr': 1.0, 'warmup_steps': 2000\n",
    "    }\n",
    "    run_experiment(no_pe_config, sentences_to_test)\n",
    "    \n",
    "    # --- Clean up generated files (optional) ---\n",
    "    # --- Clean up generated files ---\n",
    "    for f in [ \"train.bin\", \"valid.bin\"]:\n",
    "      if os.path.exists(f): os.remove(f)\n",
    "    for f in os.listdir(\".\"):\n",
    "        if f.endswith(\".pt\") or f.endswith(\".png\"): os.remove(f)\n"
   ]
  },
  {
   "cell_type": "code",
   "execution_count": null,
   "id": "34d28c6b-368b-4920-85f9-a75444a252a2",
   "metadata": {},
   "outputs": [],
   "source": []
  }
 ],
 "metadata": {
  "kernelspec": {
   "display_name": "Python 3 (ipykernel)",
   "language": "python",
   "name": "python3"
  },
  "language_info": {
   "codemirror_mode": {
    "name": "ipython",
    "version": 3
   },
   "file_extension": ".py",
   "mimetype": "text/x-python",
   "name": "python",
   "nbconvert_exporter": "python",
   "pygments_lexer": "ipython3",
   "version": "3.10.8"
  }
 },
 "nbformat": 4,
 "nbformat_minor": 5
}
